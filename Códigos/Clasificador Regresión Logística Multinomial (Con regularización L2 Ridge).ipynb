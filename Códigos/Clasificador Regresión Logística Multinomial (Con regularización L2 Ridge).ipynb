{
 "cells": [
  {
   "cell_type": "markdown",
   "metadata": {},
   "source": [
    "# Clasificador con regresión logística y mapa de la veta"
   ]
  },
  {
   "cell_type": "code",
   "execution_count": 1,
   "metadata": {},
   "outputs": [],
   "source": [
    "import numpy as np\n",
    "import matplotlib.pyplot as plt\n",
    "import pandas as pd\n",
    "import sklearn\n",
    "\n",
    "from sklearn import model_selection\n",
    "from sklearn import linear_model\n",
    "from sklearn.linear_model import LogisticRegression\n",
    "from sklearn.preprocessing import StandardScaler    \n",
    "\n",
    "from sklearn import metrics\n",
    "from sklearn.model_selection import train_test_split\n",
    "from sklearn.metrics import classification_report\n",
    "from sklearn.metrics import confusion_matrix\n",
    "\n",
    "import statsmodels.api as sm # para regresión logística con statsmodels\n"
   ]
  },
  {
   "cell_type": "code",
   "execution_count": 2,
   "metadata": {},
   "outputs": [
    {
     "data": {
      "text/plain": [
       "('0.23.2', '0.10.0')"
      ]
     },
     "execution_count": 2,
     "metadata": {},
     "output_type": "execute_result"
    }
   ],
   "source": [
    " sklearn.__version__,  sm.__version__"
   ]
  },
  {
   "cell_type": "code",
   "execution_count": 3,
   "metadata": {
    "scrolled": false
   },
   "outputs": [
    {
     "data": {
      "text/html": [
       "<div>\n",
       "<style scoped>\n",
       "    .dataframe tbody tr th:only-of-type {\n",
       "        vertical-align: middle;\n",
       "    }\n",
       "\n",
       "    .dataframe tbody tr th {\n",
       "        vertical-align: top;\n",
       "    }\n",
       "\n",
       "    .dataframe thead th {\n",
       "        text-align: right;\n",
       "    }\n",
       "</style>\n",
       "<table border=\"1\" class=\"dataframe\">\n",
       "  <thead>\n",
       "    <tr style=\"text-align: right;\">\n",
       "      <th></th>\n",
       "      <th>XC</th>\n",
       "      <th>YC</th>\n",
       "      <th>ZC</th>\n",
       "      <th>NSAMP</th>\n",
       "      <th>NHOLES</th>\n",
       "      <th>PASS</th>\n",
       "      <th>DISTNEAR</th>\n",
       "      <th>ESTVAR</th>\n",
       "      <th>BE</th>\n",
       "      <th>CLASS_QP</th>\n",
       "    </tr>\n",
       "  </thead>\n",
       "  <tbody>\n",
       "    <tr>\n",
       "      <th>0</th>\n",
       "      <td>128720.5</td>\n",
       "      <td>232510.10</td>\n",
       "      <td>3005.5</td>\n",
       "      <td>8.0</td>\n",
       "      <td>2.0</td>\n",
       "      <td>3.0</td>\n",
       "      <td>50.242311</td>\n",
       "      <td>0.394184</td>\n",
       "      <td>0.013384</td>\n",
       "      <td>2</td>\n",
       "    </tr>\n",
       "    <tr>\n",
       "      <th>1</th>\n",
       "      <td>128720.5</td>\n",
       "      <td>232510.15</td>\n",
       "      <td>3006.5</td>\n",
       "      <td>8.0</td>\n",
       "      <td>2.0</td>\n",
       "      <td>3.0</td>\n",
       "      <td>50.504265</td>\n",
       "      <td>0.396241</td>\n",
       "      <td>0.013369</td>\n",
       "      <td>2</td>\n",
       "    </tr>\n",
       "    <tr>\n",
       "      <th>2</th>\n",
       "      <td>128720.5</td>\n",
       "      <td>232510.25</td>\n",
       "      <td>3007.5</td>\n",
       "      <td>8.0</td>\n",
       "      <td>2.0</td>\n",
       "      <td>5.0</td>\n",
       "      <td>50.754825</td>\n",
       "      <td>204.990842</td>\n",
       "      <td>11.528859</td>\n",
       "      <td>2</td>\n",
       "    </tr>\n",
       "    <tr>\n",
       "      <th>3</th>\n",
       "      <td>128720.5</td>\n",
       "      <td>232510.25</td>\n",
       "      <td>3008.5</td>\n",
       "      <td>8.0</td>\n",
       "      <td>2.0</td>\n",
       "      <td>3.0</td>\n",
       "      <td>51.083045</td>\n",
       "      <td>0.399827</td>\n",
       "      <td>0.013313</td>\n",
       "      <td>2</td>\n",
       "    </tr>\n",
       "    <tr>\n",
       "      <th>4</th>\n",
       "      <td>128719.5</td>\n",
       "      <td>232510.00</td>\n",
       "      <td>3018.5</td>\n",
       "      <td>8.0</td>\n",
       "      <td>2.0</td>\n",
       "      <td>5.0</td>\n",
       "      <td>56.077945</td>\n",
       "      <td>204.990842</td>\n",
       "      <td>11.286284</td>\n",
       "      <td>2</td>\n",
       "    </tr>\n",
       "  </tbody>\n",
       "</table>\n",
       "</div>"
      ],
      "text/plain": [
       "         XC         YC      ZC  NSAMP  NHOLES  PASS   DISTNEAR      ESTVAR  \\\n",
       "0  128720.5  232510.10  3005.5    8.0     2.0   3.0  50.242311    0.394184   \n",
       "1  128720.5  232510.15  3006.5    8.0     2.0   3.0  50.504265    0.396241   \n",
       "2  128720.5  232510.25  3007.5    8.0     2.0   5.0  50.754825  204.990842   \n",
       "3  128720.5  232510.25  3008.5    8.0     2.0   3.0  51.083045    0.399827   \n",
       "4  128719.5  232510.00  3018.5    8.0     2.0   5.0  56.077945  204.990842   \n",
       "\n",
       "          BE  CLASS_QP  \n",
       "0   0.013384         2  \n",
       "1   0.013369         2  \n",
       "2  11.528859         2  \n",
       "3   0.013313         2  \n",
       "4  11.286284         2  "
      ]
     },
     "execution_count": 3,
     "metadata": {},
     "output_type": "execute_result"
    }
   ],
   "source": [
    "data=pd.read_csv(\"/home/pi1grupo4/bmv100clean.csv\")\n",
    "data.head()"
   ]
  },
  {
   "cell_type": "code",
   "execution_count": 4,
   "metadata": {},
   "outputs": [],
   "source": [
    "data= data.drop(columns=['NHOLES'],axis=1) # Extrayendo NHoles\n"
   ]
  },
  {
   "cell_type": "code",
   "execution_count": 5,
   "metadata": {},
   "outputs": [],
   "source": [
    "X = data.iloc[:,:-1]\n",
    "Y = data.iloc[:, 8]"
   ]
  },
  {
   "cell_type": "code",
   "execution_count": 6,
   "metadata": {},
   "outputs": [
    {
     "name": "stdout",
     "output_type": "stream",
     "text": [
      "1196098 1196098\n"
     ]
    }
   ],
   "source": [
    "print(len(X),len(Y))"
   ]
  },
  {
   "cell_type": "code",
   "execution_count": 7,
   "metadata": {},
   "outputs": [],
   "source": [
    "# Splitting data into train and test\n",
    "from sklearn.model_selection import train_test_split\n",
    "X_train, X_test, y_train, y_test = train_test_split(X, Y, test_size=0.30,random_state=123) "
   ]
  },
  {
   "cell_type": "markdown",
   "metadata": {},
   "source": [
    "### Multitest"
   ]
  },
  {
   "cell_type": "code",
   "execution_count": 8,
   "metadata": {},
   "outputs": [],
   "source": [
    "X_train1, X_test1, y_train1, y_test1 = train_test_split(X_train, y_train, test_size=0.2,random_state=123) "
   ]
  },
  {
   "cell_type": "markdown",
   "metadata": {},
   "source": [
    "### Set in values"
   ]
  },
  {
   "cell_type": "code",
   "execution_count": 9,
   "metadata": {},
   "outputs": [],
   "source": [
    "X_train1Values=(X_train1.iloc[:,3:8]).values\n",
    "X_test1Values=(X_test1.iloc[:,3:8]).values\n",
    "y_train1Values=y_train1.values\n",
    "y_test1Values=y_test1.values"
   ]
  },
  {
   "cell_type": "code",
   "execution_count": 10,
   "metadata": {},
   "outputs": [],
   "source": [
    "scaler = StandardScaler()\n",
    "scaler.fit(X_train1Values)\n",
    "#Scale Data\n",
    "X_trainScaled = scaler.transform(X_train1Values)\n",
    "X_testScaled = scaler.transform(X_test1Values)"
   ]
  },
  {
   "cell_type": "code",
   "execution_count": 15,
   "metadata": {},
   "outputs": [
    {
     "data": {
      "text/plain": [
       "LogisticRegression(class_weight='balanced', multi_class='multinomial',\n",
       "                   solver='newton-cg')"
      ]
     },
     "execution_count": 15,
     "metadata": {},
     "output_type": "execute_result"
    }
   ],
   "source": [
    "lm = linear_model.LogisticRegression(multi_class='multinomial', solver='newton-cg',penalty='l2',class_weight='balanced')\n",
    "lm.fit(X_trainScaled,y_train1Values)"
   ]
  },
  {
   "cell_type": "markdown",
   "metadata": {},
   "source": [
    "### Prediction"
   ]
  },
  {
   "cell_type": "code",
   "execution_count": 16,
   "metadata": {},
   "outputs": [],
   "source": [
    "y_pred1=lm.predict(X_testScaled)"
   ]
  },
  {
   "cell_type": "markdown",
   "metadata": {},
   "source": [
    "### Accuracy"
   ]
  },
  {
   "cell_type": "code",
   "execution_count": 17,
   "metadata": {},
   "outputs": [
    {
     "name": "stdout",
     "output_type": "stream",
     "text": [
      "Accuracy Score: 0.8690326895744503\n"
     ]
    }
   ],
   "source": [
    "print('Accuracy Score:', metrics.accuracy_score(y_test1Values, y_pred1))  "
   ]
  },
  {
   "cell_type": "code",
   "execution_count": 18,
   "metadata": {},
   "outputs": [
    {
     "name": "stdout",
     "output_type": "stream",
     "text": [
      "[[37626  3293     0]\n",
      " [ 5320 55378  6935]\n",
      " [  126  6257 52519]]\n",
      "              precision    recall  f1-score   support\n",
      "\n",
      "           1    0.87356   0.91952   0.89595     40919\n",
      "           2    0.85291   0.81880   0.83551     67633\n",
      "           3    0.88336   0.89163   0.88748     58902\n",
      "\n",
      "    accuracy                        0.86903    167454\n",
      "   macro avg    0.86994   0.87665   0.87298    167454\n",
      "weighted avg    0.86867   0.86903   0.86856    167454\n",
      "\n"
     ]
    }
   ],
   "source": [
    "print(confusion_matrix(y_test1, y_pred1))\n",
    "print(classification_report(y_test1, y_pred1,digits=5))"
   ]
  },
  {
   "cell_type": "code",
   "execution_count": 84,
   "metadata": {},
   "outputs": [],
   "source": [
    "list1 = y_pred1.tolist()"
   ]
  },
  {
   "cell_type": "code",
   "execution_count": 85,
   "metadata": {},
   "outputs": [
    {
     "name": "stderr",
     "output_type": "stream",
     "text": [
      "/opt/anaconda3/lib/python3.7/site-packages/ipykernel_launcher.py:1: SettingWithCopyWarning: \n",
      "A value is trying to be set on a copy of a slice from a DataFrame.\n",
      "Try using .loc[row_indexer,col_indexer] = value instead\n",
      "\n",
      "See the caveats in the documentation: http://pandas.pydata.org/pandas-docs/stable/indexing.html#indexing-view-versus-copy\n",
      "  \"\"\"Entry point for launching an IPython kernel.\n"
     ]
    }
   ],
   "source": [
    "X_test1['Prediction_Logit']=list1"
   ]
  },
  {
   "cell_type": "code",
   "execution_count": 86,
   "metadata": {
    "scrolled": true
   },
   "outputs": [
    {
     "data": {
      "text/html": [
       "<div>\n",
       "<style scoped>\n",
       "    .dataframe tbody tr th:only-of-type {\n",
       "        vertical-align: middle;\n",
       "    }\n",
       "\n",
       "    .dataframe tbody tr th {\n",
       "        vertical-align: top;\n",
       "    }\n",
       "\n",
       "    .dataframe thead th {\n",
       "        text-align: right;\n",
       "    }\n",
       "</style>\n",
       "<table border=\"1\" class=\"dataframe\">\n",
       "  <thead>\n",
       "    <tr style=\"text-align: right;\">\n",
       "      <th></th>\n",
       "      <th>XC</th>\n",
       "      <th>YC</th>\n",
       "      <th>ZC</th>\n",
       "      <th>NSAMP</th>\n",
       "      <th>PASS</th>\n",
       "      <th>DISTNEAR</th>\n",
       "      <th>ESTVAR</th>\n",
       "      <th>BE</th>\n",
       "      <th>Prediction_Logit</th>\n",
       "    </tr>\n",
       "  </thead>\n",
       "  <tbody>\n",
       "    <tr>\n",
       "      <th>833256</th>\n",
       "      <td>129345.5</td>\n",
       "      <td>233084.35</td>\n",
       "      <td>3594.5</td>\n",
       "      <td>9.0</td>\n",
       "      <td>2.0</td>\n",
       "      <td>7.530801</td>\n",
       "      <td>0.155400</td>\n",
       "      <td>0.031771</td>\n",
       "      <td>1</td>\n",
       "    </tr>\n",
       "    <tr>\n",
       "      <th>1041358</th>\n",
       "      <td>129457.5</td>\n",
       "      <td>233226.95</td>\n",
       "      <td>2177.5</td>\n",
       "      <td>2.0</td>\n",
       "      <td>5.0</td>\n",
       "      <td>121.582356</td>\n",
       "      <td>1.347252</td>\n",
       "      <td>0.612710</td>\n",
       "      <td>3</td>\n",
       "    </tr>\n",
       "    <tr>\n",
       "      <th>502439</th>\n",
       "      <td>129157.5</td>\n",
       "      <td>233016.30</td>\n",
       "      <td>3082.5</td>\n",
       "      <td>10.0</td>\n",
       "      <td>3.0</td>\n",
       "      <td>13.230610</td>\n",
       "      <td>0.133785</td>\n",
       "      <td>0.003770</td>\n",
       "      <td>2</td>\n",
       "    </tr>\n",
       "    <tr>\n",
       "      <th>136745</th>\n",
       "      <td>128950.5</td>\n",
       "      <td>232775.25</td>\n",
       "      <td>3640.5</td>\n",
       "      <td>8.0</td>\n",
       "      <td>5.0</td>\n",
       "      <td>129.815152</td>\n",
       "      <td>4.560316</td>\n",
       "      <td>2.647266</td>\n",
       "      <td>3</td>\n",
       "    </tr>\n",
       "    <tr>\n",
       "      <th>425487</th>\n",
       "      <td>129111.5</td>\n",
       "      <td>232964.30</td>\n",
       "      <td>3195.5</td>\n",
       "      <td>12.0</td>\n",
       "      <td>1.0</td>\n",
       "      <td>5.857695</td>\n",
       "      <td>0.134779</td>\n",
       "      <td>0.005443</td>\n",
       "      <td>1</td>\n",
       "    </tr>\n",
       "  </tbody>\n",
       "</table>\n",
       "</div>"
      ],
      "text/plain": [
       "               XC         YC      ZC  NSAMP  PASS    DISTNEAR    ESTVAR  \\\n",
       "833256   129345.5  233084.35  3594.5    9.0   2.0    7.530801  0.155400   \n",
       "1041358  129457.5  233226.95  2177.5    2.0   5.0  121.582356  1.347252   \n",
       "502439   129157.5  233016.30  3082.5   10.0   3.0   13.230610  0.133785   \n",
       "136745   128950.5  232775.25  3640.5    8.0   5.0  129.815152  4.560316   \n",
       "425487   129111.5  232964.30  3195.5   12.0   1.0    5.857695  0.134779   \n",
       "\n",
       "               BE  Prediction_Logit  \n",
       "833256   0.031771                 1  \n",
       "1041358  0.612710                 3  \n",
       "502439   0.003770                 2  \n",
       "136745   2.647266                 3  \n",
       "425487   0.005443                 1  "
      ]
     },
     "execution_count": 86,
     "metadata": {},
     "output_type": "execute_result"
    }
   ],
   "source": [
    "X_test1.head()"
   ]
  },
  {
   "cell_type": "markdown",
   "metadata": {},
   "source": [
    "### Dibujar la veta\n"
   ]
  },
  {
   "cell_type": "code",
   "execution_count": 87,
   "metadata": {},
   "outputs": [
    {
     "data": {
      "image/png": "[encoded data removed]",
      "text/plain": [
       "<Figure size 396x576 with 1 Axes>"
      ]
     },
     "metadata": {
      "needs_background": "light"
     },
     "output_type": "display_data"
    }
   ],
   "source": [
    "# Visualización de la Beta de la clasificación del Logit\n",
    "#====================================================================================\n",
    "\n",
    "fig, ax = plt.subplots(figsize = (5.5, 8))\n",
    "colors = {1:'red', 2:'green', 3:'blue'}\n",
    "grouped = X_test1.groupby('Prediction_Logit')\n",
    "for key, group in grouped:\n",
    "    group.plot(ax=ax, kind='scatter', x='XC', y='ZC', label=key, color=colors[key])\n",
    "plt.suptitle(\"Distribución de Clasificación de Bloques \\n con Logit Multinomial\", fontsize=16)\n",
    "plt.xlabel('XC', fontsize=14)\n",
    "plt.ylabel('ZC', fontsize=14)\n",
    "plt.show()"
   ]
  },
  {
   "cell_type": "code",
   "execution_count": 64,
   "metadata": {},
   "outputs": [
    {
     "data": {
      "image/png": "[encoded data removed]",
      "text/plain": [
       "<Figure size 396x576 with 1 Axes>"
      ]
     },
     "metadata": {
      "needs_background": "light"
     },
     "output_type": "display_data"
    }
   ],
   "source": [
    "# Visualización de la veta de la clasificación del QP (Veta de referencia)\n",
    "#====================================================================================\n",
    "\n",
    "fig, ax = plt.subplots(figsize = (5.5, 8))\n",
    "colors = {1:'red', 2:'green', 3:'blue'}\n",
    "grouped = data.groupby('CLASS_QP')\n",
    "for key, group in grouped:\n",
    "    group.plot(ax=ax, kind='scatter', x='XC', y='ZC', label=key, color=colors[key])\n",
    "plt.suptitle(\"Distribución de Clasificación de Bloques QP\", fontsize=16)\n",
    "plt.xlabel('XC', fontsize=14)\n",
    "plt.ylabel('ZC', fontsize=14)\n",
    "plt.show()"
   ]
  },
  {
   "cell_type": "code",
   "execution_count": null,
   "metadata": {},
   "outputs": [],
   "source": []
  },
  {
   "cell_type": "code",
   "execution_count": null,
   "metadata": {},
   "outputs": [],
   "source": []
  }
 ],
 "metadata": {
  "kernelspec": {
   "display_name": "Python 3",
   "language": "python",
   "name": "python3"
  },
  "language_info": {
   "codemirror_mode": {
    "name": "ipython",
    "version": 3
   },
   "file_extension": ".py",
   "mimetype": "text/x-python",
   "name": "python",
   "nbconvert_exporter": "python",
   "pygments_lexer": "ipython3",
   "version": "3.7.3"
  }
 },
 "nbformat": 4,
 "nbformat_minor": 2
}
