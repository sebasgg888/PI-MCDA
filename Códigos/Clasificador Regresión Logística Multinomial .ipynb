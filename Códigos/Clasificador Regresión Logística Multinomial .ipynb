{
 "cells": [
  {
   "cell_type": "markdown",
   "metadata": {},
   "source": [
    "# Clasificador con regresión logística y mapa de la veta"
   ]
  },
  {
   "cell_type": "code",
   "execution_count": 1,
   "metadata": {},
   "outputs": [],
   "source": [
    "import numpy as np\n",
    "import matplotlib.pyplot as plt\n",
    "import pandas as pd\n",
    "import sklearn\n",
    "\n",
    "from sklearn import model_selection\n",
    "from sklearn import linear_model\n",
    "from sklearn.linear_model import LogisticRegression\n",
    "from sklearn.preprocessing import StandardScaler    \n",
    "\n",
    "from sklearn import metrics\n",
    "from sklearn.model_selection import train_test_split\n",
    "from sklearn.metrics import classification_report\n",
    "from sklearn.metrics import confusion_matrix\n",
    "\n",
    "import statsmodels.api as sm # para regresión logística con statsmodels\n"
   ]
  },
  {
   "cell_type": "code",
   "execution_count": 2,
   "metadata": {},
   "outputs": [
    {
     "data": {
      "text/plain": [
       "('0.23.2', '0.10.0')"
      ]
     },
     "execution_count": 2,
     "metadata": {},
     "output_type": "execute_result"
    }
   ],
   "source": [
    " sklearn.__version__,  sm.__version__"
   ]
  },
  {
   "cell_type": "code",
   "execution_count": 3,
   "metadata": {
    "scrolled": false
   },
   "outputs": [
    {
     "data": {
      "text/html": [
       "<div>\n",
       "<style scoped>\n",
       "    .dataframe tbody tr th:only-of-type {\n",
       "        vertical-align: middle;\n",
       "    }\n",
       "\n",
       "    .dataframe tbody tr th {\n",
       "        vertical-align: top;\n",
       "    }\n",
       "\n",
       "    .dataframe thead th {\n",
       "        text-align: right;\n",
       "    }\n",
       "</style>\n",
       "<table border=\"1\" class=\"dataframe\">\n",
       "  <thead>\n",
       "    <tr style=\"text-align: right;\">\n",
       "      <th></th>\n",
       "      <th>XC</th>\n",
       "      <th>YC</th>\n",
       "      <th>ZC</th>\n",
       "      <th>NSAMP</th>\n",
       "      <th>NHOLES</th>\n",
       "      <th>PASS</th>\n",
       "      <th>DISTNEAR</th>\n",
       "      <th>ESTVAR</th>\n",
       "      <th>BE</th>\n",
       "      <th>CLASS_QP</th>\n",
       "    </tr>\n",
       "  </thead>\n",
       "  <tbody>\n",
       "    <tr>\n",
       "      <th>0</th>\n",
       "      <td>128720.5</td>\n",
       "      <td>232510.10</td>\n",
       "      <td>3005.5</td>\n",
       "      <td>8.0</td>\n",
       "      <td>2.0</td>\n",
       "      <td>3.0</td>\n",
       "      <td>50.242311</td>\n",
       "      <td>0.394184</td>\n",
       "      <td>0.013384</td>\n",
       "      <td>2</td>\n",
       "    </tr>\n",
       "    <tr>\n",
       "      <th>1</th>\n",
       "      <td>128720.5</td>\n",
       "      <td>232510.15</td>\n",
       "      <td>3006.5</td>\n",
       "      <td>8.0</td>\n",
       "      <td>2.0</td>\n",
       "      <td>3.0</td>\n",
       "      <td>50.504265</td>\n",
       "      <td>0.396241</td>\n",
       "      <td>0.013369</td>\n",
       "      <td>2</td>\n",
       "    </tr>\n",
       "    <tr>\n",
       "      <th>2</th>\n",
       "      <td>128720.5</td>\n",
       "      <td>232510.25</td>\n",
       "      <td>3007.5</td>\n",
       "      <td>8.0</td>\n",
       "      <td>2.0</td>\n",
       "      <td>5.0</td>\n",
       "      <td>50.754825</td>\n",
       "      <td>204.990842</td>\n",
       "      <td>11.528859</td>\n",
       "      <td>2</td>\n",
       "    </tr>\n",
       "    <tr>\n",
       "      <th>3</th>\n",
       "      <td>128720.5</td>\n",
       "      <td>232510.25</td>\n",
       "      <td>3008.5</td>\n",
       "      <td>8.0</td>\n",
       "      <td>2.0</td>\n",
       "      <td>3.0</td>\n",
       "      <td>51.083045</td>\n",
       "      <td>0.399827</td>\n",
       "      <td>0.013313</td>\n",
       "      <td>2</td>\n",
       "    </tr>\n",
       "    <tr>\n",
       "      <th>4</th>\n",
       "      <td>128719.5</td>\n",
       "      <td>232510.00</td>\n",
       "      <td>3018.5</td>\n",
       "      <td>8.0</td>\n",
       "      <td>2.0</td>\n",
       "      <td>5.0</td>\n",
       "      <td>56.077945</td>\n",
       "      <td>204.990842</td>\n",
       "      <td>11.286284</td>\n",
       "      <td>2</td>\n",
       "    </tr>\n",
       "  </tbody>\n",
       "</table>\n",
       "</div>"
      ],
      "text/plain": [
       "         XC         YC      ZC  NSAMP  NHOLES  PASS   DISTNEAR      ESTVAR  \\\n",
       "0  128720.5  232510.10  3005.5    8.0     2.0   3.0  50.242311    0.394184   \n",
       "1  128720.5  232510.15  3006.5    8.0     2.0   3.0  50.504265    0.396241   \n",
       "2  128720.5  232510.25  3007.5    8.0     2.0   5.0  50.754825  204.990842   \n",
       "3  128720.5  232510.25  3008.5    8.0     2.0   3.0  51.083045    0.399827   \n",
       "4  128719.5  232510.00  3018.5    8.0     2.0   5.0  56.077945  204.990842   \n",
       "\n",
       "          BE  CLASS_QP  \n",
       "0   0.013384         2  \n",
       "1   0.013369         2  \n",
       "2  11.528859         2  \n",
       "3   0.013313         2  \n",
       "4  11.286284         2  "
      ]
     },
     "execution_count": 3,
     "metadata": {},
     "output_type": "execute_result"
    }
   ],
   "source": [
    "data=pd.read_csv(\"/home/pi1grupo4/bmv100clean.csv\")\n",
    "data.head()"
   ]
  },
  {
   "cell_type": "code",
   "execution_count": 4,
   "metadata": {},
   "outputs": [],
   "source": [
    "data= data.drop(columns=['NHOLES'],axis=1) # Extrayendo NHoles\n"
   ]
  },
  {
   "cell_type": "code",
   "execution_count": 5,
   "metadata": {},
   "outputs": [],
   "source": [
    "X = data.iloc[:,:-1]\n",
    "Y = data.iloc[:, 8]"
   ]
  },
  {
   "cell_type": "code",
   "execution_count": 6,
   "metadata": {},
   "outputs": [
    {
     "name": "stdout",
     "output_type": "stream",
     "text": [
      "1196098 1196098\n"
     ]
    }
   ],
   "source": [
    "print(len(X),len(Y))"
   ]
  },
  {
   "cell_type": "code",
   "execution_count": 7,
   "metadata": {},
   "outputs": [],
   "source": [
    "# Splitting data into train and test\n",
    "from sklearn.model_selection import train_test_split\n",
    "X_train, X_test, y_train, y_test = train_test_split(X, Y, test_size=0.30,random_state=123) "
   ]
  },
  {
   "cell_type": "markdown",
   "metadata": {},
   "source": [
    "### Multitest"
   ]
  },
  {
   "cell_type": "code",
   "execution_count": 8,
   "metadata": {},
   "outputs": [],
   "source": [
    "X_train1, X_test1, y_train1, y_test1 = train_test_split(X_train, y_train, test_size=0.2,random_state=123) "
   ]
  },
  {
   "cell_type": "markdown",
   "metadata": {},
   "source": [
    "### Set in values"
   ]
  },
  {
   "cell_type": "code",
   "execution_count": 9,
   "metadata": {},
   "outputs": [],
   "source": [
    "X_train1Values=(X_train1.iloc[:,3:8]).values\n",
    "X_test1Values=(X_test1.iloc[:,3:8]).values\n",
    "y_train1Values=y_train1.values\n",
    "y_test1Values=y_test1.values"
   ]
  },
  {
   "cell_type": "code",
   "execution_count": 10,
   "metadata": {},
   "outputs": [],
   "source": [
    "scaler = StandardScaler()\n",
    "scaler.fit(X_train1Values)\n",
    "#Scale Data\n",
    "X_trainScaled = scaler.transform(X_train1Values)\n",
    "X_testScaled = scaler.transform(X_test1Values)"
   ]
  },
  {
   "cell_type": "code",
   "execution_count": 12,
   "metadata": {},
   "outputs": [
    {
     "data": {
      "text/plain": [
       "LogisticRegression(multi_class='multinomial', penalty='none',\n",
       "                   solver='newton-cg')"
      ]
     },
     "execution_count": 12,
     "metadata": {},
     "output_type": "execute_result"
    }
   ],
   "source": [
    "lm = linear_model.LogisticRegression(multi_class='multinomial', solver='newton-cg',penalty='none')\n",
    "lm.fit(X_trainScaled,y_train1Values)"
   ]
  },
  {
   "cell_type": "markdown",
   "metadata": {},
   "source": [
    "### Prediction"
   ]
  },
  {
   "cell_type": "code",
   "execution_count": 13,
   "metadata": {},
   "outputs": [],
   "source": [
    "y_pred1=lm.predict(X_testScaled)"
   ]
  },
  {
   "cell_type": "markdown",
   "metadata": {},
   "source": [
    "### Accuracy"
   ]
  },
  {
   "cell_type": "code",
   "execution_count": 14,
   "metadata": {},
   "outputs": [
    {
     "name": "stdout",
     "output_type": "stream",
     "text": [
      "Accuracy Score: 0.871773740848233\n"
     ]
    }
   ],
   "source": [
    "print('Accuracy Score:', metrics.accuracy_score(y_test1Values, y_pred1))  "
   ]
  },
  {
   "cell_type": "code",
   "execution_count": 15,
   "metadata": {},
   "outputs": [
    {
     "name": "stdout",
     "output_type": "stream",
     "text": [
      "[[36283  4636     0]\n",
      " [ 3839 57567  6227]\n",
      " [   72  6698 52132]]\n",
      "              precision    recall  f1-score   support\n",
      "\n",
      "           1    0.90270   0.88670   0.89463     40919\n",
      "           2    0.83550   0.85117   0.84326     67633\n",
      "           3    0.89330   0.88506   0.88916     58902\n",
      "\n",
      "    accuracy                        0.87177    167454\n",
      "   macro avg    0.87717   0.87431   0.87568    167454\n",
      "weighted avg    0.87225   0.87177   0.87196    167454\n",
      "\n"
     ]
    }
   ],
   "source": [
    "print(confusion_matrix(y_test1, y_pred1))\n",
    "print(classification_report(y_test1, y_pred1,digits=5))"
   ]
  },
  {
   "cell_type": "code",
   "execution_count": 16,
   "metadata": {},
   "outputs": [],
   "source": [
    "list1 = y_pred1.tolist()"
   ]
  },
  {
   "cell_type": "code",
   "execution_count": 17,
   "metadata": {},
   "outputs": [
    {
     "name": "stderr",
     "output_type": "stream",
     "text": [
      "/opt/anaconda3/lib/python3.7/site-packages/ipykernel_launcher.py:1: SettingWithCopyWarning: \n",
      "A value is trying to be set on a copy of a slice from a DataFrame.\n",
      "Try using .loc[row_indexer,col_indexer] = value instead\n",
      "\n",
      "See the caveats in the documentation: http://pandas.pydata.org/pandas-docs/stable/indexing.html#indexing-view-versus-copy\n",
      "  \"\"\"Entry point for launching an IPython kernel.\n"
     ]
    }
   ],
   "source": [
    "X_test1['Prediction_Logit']=list1"
   ]
  },
  {
   "cell_type": "code",
   "execution_count": 18,
   "metadata": {
    "scrolled": true
   },
   "outputs": [
    {
     "data": {
      "text/html": [
       "<div>\n",
       "<style scoped>\n",
       "    .dataframe tbody tr th:only-of-type {\n",
       "        vertical-align: middle;\n",
       "    }\n",
       "\n",
       "    .dataframe tbody tr th {\n",
       "        vertical-align: top;\n",
       "    }\n",
       "\n",
       "    .dataframe thead th {\n",
       "        text-align: right;\n",
       "    }\n",
       "</style>\n",
       "<table border=\"1\" class=\"dataframe\">\n",
       "  <thead>\n",
       "    <tr style=\"text-align: right;\">\n",
       "      <th></th>\n",
       "      <th>XC</th>\n",
       "      <th>YC</th>\n",
       "      <th>ZC</th>\n",
       "      <th>NSAMP</th>\n",
       "      <th>PASS</th>\n",
       "      <th>DISTNEAR</th>\n",
       "      <th>ESTVAR</th>\n",
       "      <th>BE</th>\n",
       "      <th>Prediction_Logit</th>\n",
       "    </tr>\n",
       "  </thead>\n",
       "  <tbody>\n",
       "    <tr>\n",
       "      <th>96983</th>\n",
       "      <td>128893.5</td>\n",
       "      <td>232708.60</td>\n",
       "      <td>3236.5</td>\n",
       "      <td>16.0</td>\n",
       "      <td>2.0</td>\n",
       "      <td>8.696240</td>\n",
       "      <td>0.117413</td>\n",
       "      <td>0.005841</td>\n",
       "      <td>1</td>\n",
       "    </tr>\n",
       "    <tr>\n",
       "      <th>733667</th>\n",
       "      <td>129288.5</td>\n",
       "      <td>233095.25</td>\n",
       "      <td>2787.5</td>\n",
       "      <td>8.0</td>\n",
       "      <td>5.0</td>\n",
       "      <td>57.173550</td>\n",
       "      <td>353.709927</td>\n",
       "      <td>25.007620</td>\n",
       "      <td>2</td>\n",
       "    </tr>\n",
       "    <tr>\n",
       "      <th>1148127</th>\n",
       "      <td>129523.5</td>\n",
       "      <td>233227.40</td>\n",
       "      <td>3313.5</td>\n",
       "      <td>2.0</td>\n",
       "      <td>3.0</td>\n",
       "      <td>38.630053</td>\n",
       "      <td>0.445085</td>\n",
       "      <td>0.213044</td>\n",
       "      <td>2</td>\n",
       "    </tr>\n",
       "    <tr>\n",
       "      <th>984892</th>\n",
       "      <td>129422.5</td>\n",
       "      <td>233185.85</td>\n",
       "      <td>2448.5</td>\n",
       "      <td>8.0</td>\n",
       "      <td>5.0</td>\n",
       "      <td>85.460194</td>\n",
       "      <td>18.706500</td>\n",
       "      <td>1.378532</td>\n",
       "      <td>3</td>\n",
       "    </tr>\n",
       "    <tr>\n",
       "      <th>760126</th>\n",
       "      <td>129304.5</td>\n",
       "      <td>233065.85</td>\n",
       "      <td>3495.5</td>\n",
       "      <td>12.0</td>\n",
       "      <td>1.0</td>\n",
       "      <td>3.724562</td>\n",
       "      <td>0.085673</td>\n",
       "      <td>0.023939</td>\n",
       "      <td>1</td>\n",
       "    </tr>\n",
       "  </tbody>\n",
       "</table>\n",
       "</div>"
      ],
      "text/plain": [
       "               XC         YC      ZC  NSAMP  PASS   DISTNEAR      ESTVAR  \\\n",
       "96983    128893.5  232708.60  3236.5   16.0   2.0   8.696240    0.117413   \n",
       "733667   129288.5  233095.25  2787.5    8.0   5.0  57.173550  353.709927   \n",
       "1148127  129523.5  233227.40  3313.5    2.0   3.0  38.630053    0.445085   \n",
       "984892   129422.5  233185.85  2448.5    8.0   5.0  85.460194   18.706500   \n",
       "760126   129304.5  233065.85  3495.5   12.0   1.0   3.724562    0.085673   \n",
       "\n",
       "                BE  Prediction_Logit  \n",
       "96983     0.005841                 1  \n",
       "733667   25.007620                 2  \n",
       "1148127   0.213044                 2  \n",
       "984892    1.378532                 3  \n",
       "760126    0.023939                 1  "
      ]
     },
     "execution_count": 18,
     "metadata": {},
     "output_type": "execute_result"
    }
   ],
   "source": [
    "X_test1.head()"
   ]
  },
  {
   "cell_type": "markdown",
   "metadata": {},
   "source": [
    "### Dibujar la veta\n"
   ]
  },
  {
   "cell_type": "code",
   "execution_count": 19,
   "metadata": {},
   "outputs": [
    {
     "data": {
      "image/png": "[encoded data removed]",
      "text/plain": [
       "<Figure size 396x576 with 1 Axes>"
      ]
     },
     "metadata": {
      "needs_background": "light"
     },
     "output_type": "display_data"
    }
   ],
   "source": [
    "# Visualización de la Beta de la clasificación del Logit\n",
    "#====================================================================================\n",
    "\n",
    "fig, ax = plt.subplots(figsize = (5.5, 8))\n",
    "colors = {1:'red', 2:'green', 3:'blue'}\n",
    "grouped = X_test1.groupby('Prediction_Logit')\n",
    "for key, group in grouped:\n",
    "    group.plot(ax=ax, kind='scatter', x='XC', y='ZC', label=key, color=colors[key])\n",
    "plt.suptitle(\"Distribución de Clasificación de Bloques \\n con Logit Multinomial\", fontsize=16)\n",
    "plt.xlabel('XC', fontsize=14)\n",
    "plt.ylabel('ZC', fontsize=14)\n",
    "plt.show()"
   ]
  },
  {
   "cell_type": "code",
   "execution_count": 64,
   "metadata": {},
   "outputs": [
    {
     "data": {
      "image/png": "[encoded data removed]",
      "text/plain": [
       "<Figure size 396x576 with 1 Axes>"
      ]
     },
     "metadata": {
      "needs_background": "light"
     },
     "output_type": "display_data"
    }
   ],
   "source": [
    "# Visualización de la veta de la clasificación del QP (Veta de referencia)\n",
    "#====================================================================================\n",
    "\n",
    "fig, ax = plt.subplots(figsize = (5.5, 8))\n",
    "colors = {1:'red', 2:'green', 3:'blue'}\n",
    "grouped = data.groupby('CLASS_QP')\n",
    "for key, group in grouped:\n",
    "    group.plot(ax=ax, kind='scatter', x='XC', y='ZC', label=key, color=colors[key])\n",
    "plt.suptitle(\"Distribución de Clasificación de Bloques QP\", fontsize=16)\n",
    "plt.xlabel('XC', fontsize=14)\n",
    "plt.ylabel('ZC', fontsize=14)\n",
    "plt.show()"
   ]
  },
  {
   "cell_type": "markdown",
   "metadata": {},
   "source": [
    "# Estimación de los coeficientes del modelo con Statsmodels"
   ]
  },
  {
   "cell_type": "code",
   "execution_count": 100,
   "metadata": {},
   "outputs": [],
   "source": [
    "X_train1sm=(X_train1.iloc[:,3:8])\n",
    "X_test1sm=(X_test1.iloc[:,3:8])\n",
    "y_train1sm=y_train1\n",
    "y_test1sm=y_test1"
   ]
  },
  {
   "cell_type": "code",
   "execution_count": 107,
   "metadata": {},
   "outputs": [
    {
     "data": {
      "text/html": [
       "<div>\n",
       "<style scoped>\n",
       "    .dataframe tbody tr th:only-of-type {\n",
       "        vertical-align: middle;\n",
       "    }\n",
       "\n",
       "    .dataframe tbody tr th {\n",
       "        vertical-align: top;\n",
       "    }\n",
       "\n",
       "    .dataframe thead th {\n",
       "        text-align: right;\n",
       "    }\n",
       "</style>\n",
       "<table border=\"1\" class=\"dataframe\">\n",
       "  <thead>\n",
       "    <tr style=\"text-align: right;\">\n",
       "      <th></th>\n",
       "      <th>NSAMP</th>\n",
       "      <th>PASS</th>\n",
       "      <th>DISTNEAR</th>\n",
       "      <th>ESTVAR</th>\n",
       "      <th>BE</th>\n",
       "    </tr>\n",
       "  </thead>\n",
       "  <tbody>\n",
       "    <tr>\n",
       "      <th>0</th>\n",
       "      <td>-0.149379</td>\n",
       "      <td>0.990062</td>\n",
       "      <td>-0.236838</td>\n",
       "      <td>6.259508</td>\n",
       "      <td>0.499500</td>\n",
       "    </tr>\n",
       "    <tr>\n",
       "      <th>1</th>\n",
       "      <td>0.966312</td>\n",
       "      <td>-0.413226</td>\n",
       "      <td>-0.891703</td>\n",
       "      <td>-0.341604</td>\n",
       "      <td>-0.219588</td>\n",
       "    </tr>\n",
       "    <tr>\n",
       "      <th>2</th>\n",
       "      <td>-0.428302</td>\n",
       "      <td>0.990062</td>\n",
       "      <td>1.725315</td>\n",
       "      <td>-0.204342</td>\n",
       "      <td>-0.050827</td>\n",
       "    </tr>\n",
       "    <tr>\n",
       "      <th>3</th>\n",
       "      <td>-0.149379</td>\n",
       "      <td>0.990062</td>\n",
       "      <td>-0.086657</td>\n",
       "      <td>6.150534</td>\n",
       "      <td>1.986220</td>\n",
       "    </tr>\n",
       "    <tr>\n",
       "      <th>4</th>\n",
       "      <td>-0.986147</td>\n",
       "      <td>-0.413226</td>\n",
       "      <td>-0.682508</td>\n",
       "      <td>-0.341078</td>\n",
       "      <td>-0.197558</td>\n",
       "    </tr>\n",
       "  </tbody>\n",
       "</table>\n",
       "</div>"
      ],
      "text/plain": [
       "      NSAMP      PASS  DISTNEAR    ESTVAR        BE\n",
       "0 -0.149379  0.990062 -0.236838  6.259508  0.499500\n",
       "1  0.966312 -0.413226 -0.891703 -0.341604 -0.219588\n",
       "2 -0.428302  0.990062  1.725315 -0.204342 -0.050827\n",
       "3 -0.149379  0.990062 -0.086657  6.150534  1.986220\n",
       "4 -0.986147 -0.413226 -0.682508 -0.341078 -0.197558"
      ]
     },
     "execution_count": 107,
     "metadata": {},
     "output_type": "execute_result"
    }
   ],
   "source": [
    "X_trainScaledsm = scaler.transform(X_train1sm)\n",
    "X_trainScaledsm1=pd.DataFrame(X_trainScaledsm)\n",
    "X_trainScaledsm1.columns =['NSAMP', 'PASS', 'DISTNEAR', 'ESTVAR','BE']\n",
    "X_trainScaledsm1.head()"
   ]
  },
  {
   "cell_type": "code",
   "execution_count": 118,
   "metadata": {},
   "outputs": [
    {
     "name": "stderr",
     "output_type": "stream",
     "text": [
      "/opt/anaconda3/lib/python3.7/site-packages/numpy/core/fromnumeric.py:2389: FutureWarning: Method .ptp is deprecated and will be removed in a future version. Use numpy.ptp instead.\n",
      "  return ptp(axis=axis, out=out, **kwargs)\n"
     ]
    },
    {
     "name": "stdout",
     "output_type": "stream",
     "text": [
      "Optimization terminated successfully.\n",
      "         Current function value: 0.297057\n",
      "         Iterations 14\n",
      "                          MNLogit Regression Results                          \n",
      "==============================================================================\n",
      "Dep. Variable:               CLASS_QP   No. Observations:               669814\n",
      "Model:                        MNLogit   Df Residuals:                   669802\n",
      "Method:                           MLE   Df Model:                           10\n",
      "Date:                Sun, 05 Jun 2022   Pseudo R-squ.:                  0.7245\n",
      "Time:                        18:07:04   Log-Likelihood:            -1.9897e+05\n",
      "converged:                       True   LL-Null:                   -7.2226e+05\n",
      "Covariance Type:            nonrobust   LLR p-value:                     0.000\n",
      "==============================================================================\n",
      "CLASS_QP=2       coef    std err          z      P>|z|      [0.025      0.975]\n",
      "------------------------------------------------------------------------------\n",
      "const         -6.5118      0.046   -140.941      0.000      -6.602      -6.421\n",
      "NSAMP         -0.1167      0.002    -64.675      0.000      -0.120      -0.113\n",
      "PASS           1.8338      0.013    135.959      0.000       1.807       1.860\n",
      "DISTNEAR       0.1967      0.001    196.699      0.000       0.195       0.199\n",
      "ESTVAR         0.0024      0.001      3.078      0.002       0.001       0.004\n",
      "BE             0.0269      0.009      3.146      0.002       0.010       0.044\n",
      "------------------------------------------------------------------------------\n",
      "CLASS_QP=3       coef    std err          z      P>|z|      [0.025      0.975]\n",
      "------------------------------------------------------------------------------\n",
      "const        -14.1257      0.055   -258.803      0.000     -14.233     -14.019\n",
      "NSAMP         -0.5241      0.004   -143.433      0.000      -0.531      -0.517\n",
      "PASS           3.2419      0.015    213.315      0.000       3.212       3.272\n",
      "DISTNEAR       0.2808      0.001    268.772      0.000       0.279       0.283\n",
      "ESTVAR         0.0033      0.001      4.269      0.000       0.002       0.005\n",
      "BE            -0.0700      0.009     -8.133      0.000      -0.087      -0.053\n",
      "==============================================================================\n"
     ]
    }
   ],
   "source": [
    "logit_model=sm.MNLogit(y_train1sm,sm.add_constant(X_train1sm))\n",
    "logit_model\n",
    "result=logit_model.fit()\n",
    "stats1=result.summary()\n",
    "print(stats1)"
   ]
  },
  {
   "cell_type": "code",
   "execution_count": null,
   "metadata": {},
   "outputs": [],
   "source": [
    "#Para verificar los cálculos en STATA\n",
    "datos_stata= pd.concat([X_trainScaledsm1, y_train1sm], axis=1)\n",
    "datos_stata.to_csv('datos_esc_log_stata.csv')"
   ]
  },
  {
   "cell_type": "code",
   "execution_count": null,
   "metadata": {},
   "outputs": [],
   "source": []
  },
  {
   "cell_type": "code",
   "execution_count": null,
   "metadata": {},
   "outputs": [],
   "source": [
    "# Visualización de la Beta de la clasificación del Logit\n",
    "#====================================================================================\n",
    "\n",
    "fig, ax = plt.subplots(figsize = (5.5, 8))\n",
    "colors = {1:'red', 2:'green', 3:'blue'}\n",
    "grouped = X_test1.groupby('Prediction_Logit')\n",
    "for key, group in grouped:\n",
    "    group.plot(ax=ax, kind='scatter', x='XC', y='ZC', label=key, color=colors[key])\n",
    "plt.suptitle(\"\", fontsize=16)\n",
    "plt.xlabel('XC', fontsize=14)\n",
    "plt.ylabel('ZC', fontsize=14)\n",
    "plt.show()"
   ]
  },
  {
   "cell_type": "code",
   "execution_count": null,
   "metadata": {},
   "outputs": [],
   "source": []
  },
  {
   "cell_type": "code",
   "execution_count": null,
   "metadata": {},
   "outputs": [],
   "source": []
  }
 ],
 "metadata": {
  "kernelspec": {
   "display_name": "Python 3",
   "language": "python",
   "name": "python3"
  },
  "language_info": {
   "codemirror_mode": {
    "name": "ipython",
    "version": 3
   },
   "file_extension": ".py",
   "mimetype": "text/x-python",
   "name": "python",
   "nbconvert_exporter": "python",
   "pygments_lexer": "ipython3",
   "version": "3.7.3"
  }
 },
 "nbformat": 4,
 "nbformat_minor": 2
}
