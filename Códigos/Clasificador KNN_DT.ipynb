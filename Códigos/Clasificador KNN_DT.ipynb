{
 "cells": [
  {
   "cell_type": "code",
   "execution_count": 512,
   "metadata": {
    "id": "V48kT-cPp1Ov"
   },
   "outputs": [],
   "source": [
    "import numpy as np\n",
    "import matplotlib.pyplot as plt\n",
    "import pandas as pd\n",
    "from sklearn.neighbors import KNeighborsClassifier\n",
    "from sklearn.metrics import classification_report, confusion_matrix\n",
    "from sklearn.preprocessing import StandardScaler\n",
    "import random\n",
    "import time\n",
    "from sklearn.metrics import accuracy_score\n",
    "import sklearn"
   ]
  },
  {
   "cell_type": "code",
   "execution_count": 513,
   "metadata": {
    "id": "wmySzixvpyVs"
   },
   "outputs": [
    {
     "data": {
      "text/html": [
       "<div>\n",
       "<style scoped>\n",
       "    .dataframe tbody tr th:only-of-type {\n",
       "        vertical-align: middle;\n",
       "    }\n",
       "\n",
       "    .dataframe tbody tr th {\n",
       "        vertical-align: top;\n",
       "    }\n",
       "\n",
       "    .dataframe thead th {\n",
       "        text-align: right;\n",
       "    }\n",
       "</style>\n",
       "<table border=\"1\" class=\"dataframe\">\n",
       "  <thead>\n",
       "    <tr style=\"text-align: right;\">\n",
       "      <th></th>\n",
       "      <th>XC</th>\n",
       "      <th>YC</th>\n",
       "      <th>ZC</th>\n",
       "      <th>NSAMP</th>\n",
       "      <th>PASS</th>\n",
       "      <th>DISTNEAR</th>\n",
       "      <th>ESTVAR</th>\n",
       "      <th>BE</th>\n",
       "      <th>CLASS_QP</th>\n",
       "    </tr>\n",
       "  </thead>\n",
       "  <tbody>\n",
       "    <tr>\n",
       "      <th>0</th>\n",
       "      <td>128720.5</td>\n",
       "      <td>232510.10</td>\n",
       "      <td>3005.5</td>\n",
       "      <td>8.0</td>\n",
       "      <td>3.0</td>\n",
       "      <td>50.242311</td>\n",
       "      <td>0.394184</td>\n",
       "      <td>0.013384</td>\n",
       "      <td>2</td>\n",
       "    </tr>\n",
       "    <tr>\n",
       "      <th>1</th>\n",
       "      <td>128720.5</td>\n",
       "      <td>232510.15</td>\n",
       "      <td>3006.5</td>\n",
       "      <td>8.0</td>\n",
       "      <td>3.0</td>\n",
       "      <td>50.504265</td>\n",
       "      <td>0.396241</td>\n",
       "      <td>0.013369</td>\n",
       "      <td>2</td>\n",
       "    </tr>\n",
       "    <tr>\n",
       "      <th>2</th>\n",
       "      <td>128720.5</td>\n",
       "      <td>232510.25</td>\n",
       "      <td>3007.5</td>\n",
       "      <td>8.0</td>\n",
       "      <td>5.0</td>\n",
       "      <td>50.754825</td>\n",
       "      <td>204.990842</td>\n",
       "      <td>11.528859</td>\n",
       "      <td>2</td>\n",
       "    </tr>\n",
       "    <tr>\n",
       "      <th>3</th>\n",
       "      <td>128720.5</td>\n",
       "      <td>232510.25</td>\n",
       "      <td>3008.5</td>\n",
       "      <td>8.0</td>\n",
       "      <td>3.0</td>\n",
       "      <td>51.083045</td>\n",
       "      <td>0.399827</td>\n",
       "      <td>0.013313</td>\n",
       "      <td>2</td>\n",
       "    </tr>\n",
       "    <tr>\n",
       "      <th>4</th>\n",
       "      <td>128719.5</td>\n",
       "      <td>232510.00</td>\n",
       "      <td>3018.5</td>\n",
       "      <td>8.0</td>\n",
       "      <td>5.0</td>\n",
       "      <td>56.077945</td>\n",
       "      <td>204.990842</td>\n",
       "      <td>11.286284</td>\n",
       "      <td>2</td>\n",
       "    </tr>\n",
       "  </tbody>\n",
       "</table>\n",
       "</div>"
      ],
      "text/plain": [
       "         XC         YC      ZC  NSAMP  PASS   DISTNEAR      ESTVAR         BE  \\\n",
       "0  128720.5  232510.10  3005.5    8.0   3.0  50.242311    0.394184   0.013384   \n",
       "1  128720.5  232510.15  3006.5    8.0   3.0  50.504265    0.396241   0.013369   \n",
       "2  128720.5  232510.25  3007.5    8.0   5.0  50.754825  204.990842  11.528859   \n",
       "3  128720.5  232510.25  3008.5    8.0   3.0  51.083045    0.399827   0.013313   \n",
       "4  128719.5  232510.00  3018.5    8.0   5.0  56.077945  204.990842  11.286284   \n",
       "\n",
       "   CLASS_QP  \n",
       "0         2  \n",
       "1         2  \n",
       "2         2  \n",
       "3         2  \n",
       "4         2  "
      ]
     },
     "execution_count": 513,
     "metadata": {},
     "output_type": "execute_result"
    }
   ],
   "source": [
    "data=(pd.read_csv(\"/home/pi1grupo4/bmv100xyzepar.csv\")).drop(['NHOLES'],axis=1)\n",
    "data.head()"
   ]
  },
  {
   "cell_type": "code",
   "execution_count": 514,
   "metadata": {
    "id": "uVQEC_nBpxvL"
   },
   "outputs": [],
   "source": [
    "X = data.iloc[:,:-1]\n",
    "Y = data.iloc[:, 8]"
   ]
  },
  {
   "cell_type": "code",
   "execution_count": 515,
   "metadata": {},
   "outputs": [
    {
     "name": "stdout",
     "output_type": "stream",
     "text": [
      "1196098 1196098\n"
     ]
    }
   ],
   "source": [
    "print(len(X),len(Y))"
   ]
  },
  {
   "cell_type": "code",
   "execution_count": 516,
   "metadata": {
    "id": "3E6M1JiTrLtx"
   },
   "outputs": [],
   "source": [
    "# Splitting data into train and test\n",
    "from sklearn.model_selection import train_test_split\n",
    "X_train, X_test, y_train, y_test = train_test_split(X, Y, test_size=0.30, random_state=123) \n"
   ]
  },
  {
   "cell_type": "markdown",
   "metadata": {
    "id": "eeD4z2ZsOBxT"
   },
   "source": [
    "# Multitest"
   ]
  },
  {
   "cell_type": "code",
   "execution_count": 493,
   "metadata": {
    "id": "H_8qAVdrOBxa"
   },
   "outputs": [],
   "source": [
    "X_train1, X_test1, y_train1, y_test1 = train_test_split(X_train, y_train, test_size=0.2) "
   ]
  },
  {
   "cell_type": "markdown",
   "metadata": {},
   "source": [
    "# Set in values x and y 80%(70%)"
   ]
  },
  {
   "cell_type": "code",
   "execution_count": 494,
   "metadata": {},
   "outputs": [],
   "source": [
    "X_train1Values=(X_train1.iloc[:,3:8]).values\n",
    "X_test1Values=(X_test1.iloc[:,3:8]).values\n",
    "y_train1Values=y_train1.values\n",
    "y_test1Values=y_test1.values"
   ]
  },
  {
   "cell_type": "markdown",
   "metadata": {},
   "source": [
    "#### Scaling"
   ]
  },
  {
   "cell_type": "code",
   "execution_count": 495,
   "metadata": {},
   "outputs": [],
   "source": [
    "scaler = StandardScaler()\n",
    "scaler.fit(X_train1Values)\n",
    "#Scale Data\n",
    "X_trainScaled = scaler.transform(X_train1Values)\n",
    "X_testScaled = scaler.transform(X_test1Values)"
   ]
  },
  {
   "cell_type": "markdown",
   "metadata": {},
   "source": [
    "#### Scaling test and train 30%"
   ]
  },
  {
   "cell_type": "code",
   "execution_count": 496,
   "metadata": {},
   "outputs": [],
   "source": [
    "X_testValues=(X_test.iloc[:,3:8]).values\n",
    "y_testValues=y_test.values\n",
    "# data 30%\n",
    "scaler30 = StandardScaler()\n",
    "scaler30.fit(X_testValues)\n",
    "X_test30_Scaled = scaler30.transform(X_testValues)"
   ]
  },
  {
   "cell_type": "code",
   "execution_count": null,
   "metadata": {},
   "outputs": [],
   "source": []
  },
  {
   "cell_type": "code",
   "execution_count": null,
   "metadata": {},
   "outputs": [],
   "source": []
  },
  {
   "cell_type": "markdown",
   "metadata": {
    "id": "OjwYc3PUKd3S"
   },
   "source": [
    "# Metrics Tests"
   ]
  },
  {
   "cell_type": "markdown",
   "metadata": {
    "id": "r1uEI5DqubdE"
   },
   "source": [
    "euclidean,minkowski,manhattan,chebyshev"
   ]
  },
  {
   "cell_type": "markdown",
   "metadata": {
    "id": "oeBXTv9KOBxg"
   },
   "source": [
    "# Manhattan"
   ]
  },
  {
   "cell_type": "code",
   "execution_count": 311,
   "metadata": {
    "id": "KiEiV51-q3jc"
   },
   "outputs": [
    {
     "data": {
      "text/html": [
       "<div>\n",
       "<style scoped>\n",
       "    .dataframe tbody tr th:only-of-type {\n",
       "        vertical-align: middle;\n",
       "    }\n",
       "\n",
       "    .dataframe tbody tr th {\n",
       "        vertical-align: top;\n",
       "    }\n",
       "\n",
       "    .dataframe thead th {\n",
       "        text-align: right;\n",
       "    }\n",
       "</style>\n",
       "<table border=\"1\" class=\"dataframe\">\n",
       "  <thead>\n",
       "    <tr style=\"text-align: right;\">\n",
       "      <th></th>\n",
       "      <th>Difference</th>\n",
       "      <th>K</th>\n",
       "      <th>Test Score</th>\n",
       "      <th>Train Score</th>\n",
       "    </tr>\n",
       "  </thead>\n",
       "  <tbody>\n",
       "    <tr>\n",
       "      <th>0</th>\n",
       "      <td>0.034983</td>\n",
       "      <td>2.0</td>\n",
       "      <td>0.933707</td>\n",
       "      <td>0.968690</td>\n",
       "    </tr>\n",
       "    <tr>\n",
       "      <th>1</th>\n",
       "      <td>0.027109</td>\n",
       "      <td>3.0</td>\n",
       "      <td>0.941817</td>\n",
       "      <td>0.968926</td>\n",
       "    </tr>\n",
       "    <tr>\n",
       "      <th>2</th>\n",
       "      <td>0.020819</td>\n",
       "      <td>4.0</td>\n",
       "      <td>0.940169</td>\n",
       "      <td>0.960988</td>\n",
       "    </tr>\n",
       "    <tr>\n",
       "      <th>3</th>\n",
       "      <td>0.017293</td>\n",
       "      <td>5.0</td>\n",
       "      <td>0.943352</td>\n",
       "      <td>0.960644</td>\n",
       "    </tr>\n",
       "    <tr>\n",
       "      <th>4</th>\n",
       "      <td>0.014756</td>\n",
       "      <td>6.0</td>\n",
       "      <td>0.941966</td>\n",
       "      <td>0.956722</td>\n",
       "    </tr>\n",
       "    <tr>\n",
       "      <th>5</th>\n",
       "      <td>0.012866</td>\n",
       "      <td>7.0</td>\n",
       "      <td>0.943435</td>\n",
       "      <td>0.956301</td>\n",
       "    </tr>\n",
       "    <tr>\n",
       "      <th>6</th>\n",
       "      <td>0.011284</td>\n",
       "      <td>8.0</td>\n",
       "      <td>0.942611</td>\n",
       "      <td>0.953895</td>\n",
       "    </tr>\n",
       "    <tr>\n",
       "      <th>7</th>\n",
       "      <td>0.010309</td>\n",
       "      <td>9.0</td>\n",
       "      <td>0.943238</td>\n",
       "      <td>0.953547</td>\n",
       "    </tr>\n",
       "    <tr>\n",
       "      <th>8</th>\n",
       "      <td>0.009238</td>\n",
       "      <td>10.0</td>\n",
       "      <td>0.942689</td>\n",
       "      <td>0.951927</td>\n",
       "    </tr>\n",
       "    <tr>\n",
       "      <th>9</th>\n",
       "      <td>0.008541</td>\n",
       "      <td>11.0</td>\n",
       "      <td>0.943023</td>\n",
       "      <td>0.951564</td>\n",
       "    </tr>\n",
       "    <tr>\n",
       "      <th>10</th>\n",
       "      <td>0.008171</td>\n",
       "      <td>12.0</td>\n",
       "      <td>0.942295</td>\n",
       "      <td>0.950465</td>\n",
       "    </tr>\n",
       "    <tr>\n",
       "      <th>11</th>\n",
       "      <td>0.007583</td>\n",
       "      <td>13.0</td>\n",
       "      <td>0.942498</td>\n",
       "      <td>0.950080</td>\n",
       "    </tr>\n",
       "    <tr>\n",
       "      <th>12</th>\n",
       "      <td>0.006996</td>\n",
       "      <td>14.0</td>\n",
       "      <td>0.942098</td>\n",
       "      <td>0.949093</td>\n",
       "    </tr>\n",
       "    <tr>\n",
       "      <th>13</th>\n",
       "      <td>0.006181</td>\n",
       "      <td>15.0</td>\n",
       "      <td>0.942683</td>\n",
       "      <td>0.948863</td>\n",
       "    </tr>\n",
       "    <tr>\n",
       "      <th>14</th>\n",
       "      <td>0.006134</td>\n",
       "      <td>16.0</td>\n",
       "      <td>0.942020</td>\n",
       "      <td>0.948154</td>\n",
       "    </tr>\n",
       "    <tr>\n",
       "      <th>15</th>\n",
       "      <td>0.005875</td>\n",
       "      <td>17.0</td>\n",
       "      <td>0.942157</td>\n",
       "      <td>0.948032</td>\n",
       "    </tr>\n",
       "    <tr>\n",
       "      <th>16</th>\n",
       "      <td>0.005412</td>\n",
       "      <td>18.0</td>\n",
       "      <td>0.941775</td>\n",
       "      <td>0.947187</td>\n",
       "    </tr>\n",
       "    <tr>\n",
       "      <th>17</th>\n",
       "      <td>0.005367</td>\n",
       "      <td>19.0</td>\n",
       "      <td>0.941715</td>\n",
       "      <td>0.947082</td>\n",
       "    </tr>\n",
       "    <tr>\n",
       "      <th>18</th>\n",
       "      <td>0.004910</td>\n",
       "      <td>20.0</td>\n",
       "      <td>0.941465</td>\n",
       "      <td>0.946375</td>\n",
       "    </tr>\n",
       "    <tr>\n",
       "      <th>19</th>\n",
       "      <td>0.005167</td>\n",
       "      <td>21.0</td>\n",
       "      <td>0.941154</td>\n",
       "      <td>0.946321</td>\n",
       "    </tr>\n",
       "    <tr>\n",
       "      <th>20</th>\n",
       "      <td>0.004697</td>\n",
       "      <td>22.0</td>\n",
       "      <td>0.940975</td>\n",
       "      <td>0.945671</td>\n",
       "    </tr>\n",
       "    <tr>\n",
       "      <th>21</th>\n",
       "      <td>0.004480</td>\n",
       "      <td>23.0</td>\n",
       "      <td>0.940987</td>\n",
       "      <td>0.945467</td>\n",
       "    </tr>\n",
       "    <tr>\n",
       "      <th>22</th>\n",
       "      <td>0.004231</td>\n",
       "      <td>24.0</td>\n",
       "      <td>0.940730</td>\n",
       "      <td>0.944961</td>\n",
       "    </tr>\n",
       "    <tr>\n",
       "      <th>23</th>\n",
       "      <td>0.004128</td>\n",
       "      <td>25.0</td>\n",
       "      <td>0.940640</td>\n",
       "      <td>0.944768</td>\n",
       "    </tr>\n",
       "    <tr>\n",
       "      <th>24</th>\n",
       "      <td>0.003789</td>\n",
       "      <td>26.0</td>\n",
       "      <td>0.940515</td>\n",
       "      <td>0.944304</td>\n",
       "    </tr>\n",
       "    <tr>\n",
       "      <th>25</th>\n",
       "      <td>0.003658</td>\n",
       "      <td>27.0</td>\n",
       "      <td>0.940443</td>\n",
       "      <td>0.944101</td>\n",
       "    </tr>\n",
       "    <tr>\n",
       "      <th>26</th>\n",
       "      <td>0.003495</td>\n",
       "      <td>28.0</td>\n",
       "      <td>0.940288</td>\n",
       "      <td>0.943783</td>\n",
       "    </tr>\n",
       "    <tr>\n",
       "      <th>27</th>\n",
       "      <td>0.003632</td>\n",
       "      <td>29.0</td>\n",
       "      <td>0.939954</td>\n",
       "      <td>0.943586</td>\n",
       "    </tr>\n",
       "  </tbody>\n",
       "</table>\n",
       "</div>"
      ],
      "text/plain": [
       "    Difference     K  Test Score  Train Score\n",
       "0     0.034983   2.0    0.933707     0.968690\n",
       "1     0.027109   3.0    0.941817     0.968926\n",
       "2     0.020819   4.0    0.940169     0.960988\n",
       "3     0.017293   5.0    0.943352     0.960644\n",
       "4     0.014756   6.0    0.941966     0.956722\n",
       "5     0.012866   7.0    0.943435     0.956301\n",
       "6     0.011284   8.0    0.942611     0.953895\n",
       "7     0.010309   9.0    0.943238     0.953547\n",
       "8     0.009238  10.0    0.942689     0.951927\n",
       "9     0.008541  11.0    0.943023     0.951564\n",
       "10    0.008171  12.0    0.942295     0.950465\n",
       "11    0.007583  13.0    0.942498     0.950080\n",
       "12    0.006996  14.0    0.942098     0.949093\n",
       "13    0.006181  15.0    0.942683     0.948863\n",
       "14    0.006134  16.0    0.942020     0.948154\n",
       "15    0.005875  17.0    0.942157     0.948032\n",
       "16    0.005412  18.0    0.941775     0.947187\n",
       "17    0.005367  19.0    0.941715     0.947082\n",
       "18    0.004910  20.0    0.941465     0.946375\n",
       "19    0.005167  21.0    0.941154     0.946321\n",
       "20    0.004697  22.0    0.940975     0.945671\n",
       "21    0.004480  23.0    0.940987     0.945467\n",
       "22    0.004231  24.0    0.940730     0.944961\n",
       "23    0.004128  25.0    0.940640     0.944768\n",
       "24    0.003789  26.0    0.940515     0.944304\n",
       "25    0.003658  27.0    0.940443     0.944101\n",
       "26    0.003495  28.0    0.940288     0.943783\n",
       "27    0.003632  29.0    0.939954     0.943586"
      ]
     },
     "execution_count": 311,
     "metadata": {},
     "output_type": "execute_result"
    }
   ],
   "source": [
    "# Running KNN for various Metrics and storing results\n",
    "\n",
    "knn_r_acc_Manh = pd.DataFrame()\n",
    "for i in range(2,30,1):\n",
    "    knn = KNeighborsClassifier(n_neighbors=i, metric='manhattan')\n",
    "    knn.fit(X_trainScaled,y_train1Values)\n",
    "    test_score = knn.score(X_testScaled,y_test1Values)\n",
    "    train_score = knn.score(X_trainScaled,y_train1Values)\n",
    "    difference=abs(train_score-test_score)\n",
    "    df2 = {'K': i, 'Test Score': test_score, 'Train Score': train_score,'Difference': difference}\n",
    "    knn_r_acc_Manh = knn_r_acc_Manh.append(df2, ignore_index = True)\n",
    "#df = pd.DataFrame(knn_r_acc, columns=['K','Test Score','Train Score'])\n",
    "(knn_r_acc_Manh)"
   ]
  },
  {
   "cell_type": "code",
   "execution_count": 312,
   "metadata": {
    "colab": {
     "base_uri": "https://localhost:8080/",
     "height": 573
    },
    "id": "kgoVVj2xOBxj",
    "outputId": "546b07f3-839a-4641-91f3-ddf1ce9c923e"
   },
   "outputs": [
    {
     "data": {
      "image/png": "[encoded data removed]",
      "text/plain": [
       "<Figure size 432x288 with 1 Axes>"
      ]
     },
     "metadata": {
      "needs_background": "light"
     },
     "output_type": "display_data"
    },
    {
     "data": {
      "image/png": "[encoded data removed]",
      "text/plain": [
       "<Figure size 432x288 with 1 Axes>"
      ]
     },
     "metadata": {
      "needs_background": "light"
     },
     "output_type": "display_data"
    }
   ],
   "source": [
    "# plot lines\n",
    "plt.plot(knn_r_acc_Manh['K'], knn_r_acc_Manh['Test Score'], label = \"Test\")\n",
    "plt.plot(knn_r_acc_Manh['K'], knn_r_acc_Manh['Train Score'], label = \"Train\")\n",
    "plt.legend()\n",
    "plt.xlabel('Número de vecinos K')\n",
    "# naming the y axis\n",
    "plt.ylabel('Score')\n",
    "# giving a title to my graph\n",
    "plt.title('Train y Test Score Vs K, métrica Manhattan')\n",
    "plt.show()\n",
    "# Difference\n",
    "plt.plot(knn_r_acc_Manh['K'], knn_r_acc_Manh['Difference'], color='red')\n",
    "plt.xlabel('Número de vecinos K')\n",
    "# naming the y axis\n",
    "plt.ylabel('Diferencia Scores')\n",
    "# giving a title to my graph\n",
    "plt.title('Diferencia entre Train y Test Score')\n",
    "plt.show()"
   ]
  },
  {
   "cell_type": "code",
   "execution_count": 313,
   "metadata": {
    "colab": {
     "base_uri": "https://localhost:8080/",
     "height": 112
    },
    "id": "YdlCqXNe4C7S",
    "outputId": "a8fb4447-abd3-40d7-ccb6-a40f16870426"
   },
   "outputs": [
    {
     "data": {
      "text/html": [
       "<div>\n",
       "<style scoped>\n",
       "    .dataframe tbody tr th:only-of-type {\n",
       "        vertical-align: middle;\n",
       "    }\n",
       "\n",
       "    .dataframe tbody tr th {\n",
       "        vertical-align: top;\n",
       "    }\n",
       "\n",
       "    .dataframe thead th {\n",
       "        text-align: right;\n",
       "    }\n",
       "</style>\n",
       "<table border=\"1\" class=\"dataframe\">\n",
       "  <thead>\n",
       "    <tr style=\"text-align: right;\">\n",
       "      <th></th>\n",
       "      <th>Difference</th>\n",
       "      <th>K</th>\n",
       "      <th>Test Score</th>\n",
       "      <th>Train Score</th>\n",
       "    </tr>\n",
       "  </thead>\n",
       "  <tbody>\n",
       "    <tr>\n",
       "      <th>26</th>\n",
       "      <td>0.003495</td>\n",
       "      <td>28.0</td>\n",
       "      <td>0.940288</td>\n",
       "      <td>0.943783</td>\n",
       "    </tr>\n",
       "    <tr>\n",
       "      <th>27</th>\n",
       "      <td>0.003632</td>\n",
       "      <td>29.0</td>\n",
       "      <td>0.939954</td>\n",
       "      <td>0.943586</td>\n",
       "    </tr>\n",
       "  </tbody>\n",
       "</table>\n",
       "</div>"
      ],
      "text/plain": [
       "    Difference     K  Test Score  Train Score\n",
       "26    0.003495  28.0    0.940288     0.943783\n",
       "27    0.003632  29.0    0.939954     0.943586"
      ]
     },
     "execution_count": 313,
     "metadata": {},
     "output_type": "execute_result"
    }
   ],
   "source": [
    "knn_r_acc_Manh.nsmallest(2, 'Difference')"
   ]
  },
  {
   "cell_type": "markdown",
   "metadata": {
    "id": "gwOS9WoLOBxk"
   },
   "source": [
    "# Euclidean"
   ]
  },
  {
   "cell_type": "code",
   "execution_count": 314,
   "metadata": {
    "colab": {
     "base_uri": "https://localhost:8080/",
     "height": 488
    },
    "id": "Gu1szJlYOBxl",
    "outputId": "66c2d303-788b-450c-9ba3-6de4fb6bb2ef"
   },
   "outputs": [
    {
     "data": {
      "text/html": [
       "<div>\n",
       "<style scoped>\n",
       "    .dataframe tbody tr th:only-of-type {\n",
       "        vertical-align: middle;\n",
       "    }\n",
       "\n",
       "    .dataframe tbody tr th {\n",
       "        vertical-align: top;\n",
       "    }\n",
       "\n",
       "    .dataframe thead th {\n",
       "        text-align: right;\n",
       "    }\n",
       "</style>\n",
       "<table border=\"1\" class=\"dataframe\">\n",
       "  <thead>\n",
       "    <tr style=\"text-align: right;\">\n",
       "      <th></th>\n",
       "      <th>Difference</th>\n",
       "      <th>K</th>\n",
       "      <th>Test Score</th>\n",
       "      <th>Train Score</th>\n",
       "    </tr>\n",
       "  </thead>\n",
       "  <tbody>\n",
       "    <tr>\n",
       "      <th>0</th>\n",
       "      <td>0.036007</td>\n",
       "      <td>2.0</td>\n",
       "      <td>0.931647</td>\n",
       "      <td>0.967654</td>\n",
       "    </tr>\n",
       "    <tr>\n",
       "      <th>1</th>\n",
       "      <td>0.028052</td>\n",
       "      <td>3.0</td>\n",
       "      <td>0.938956</td>\n",
       "      <td>0.967009</td>\n",
       "    </tr>\n",
       "    <tr>\n",
       "      <th>2</th>\n",
       "      <td>0.021603</td>\n",
       "      <td>4.0</td>\n",
       "      <td>0.937135</td>\n",
       "      <td>0.958738</td>\n",
       "    </tr>\n",
       "    <tr>\n",
       "      <th>3</th>\n",
       "      <td>0.018000</td>\n",
       "      <td>5.0</td>\n",
       "      <td>0.940091</td>\n",
       "      <td>0.958091</td>\n",
       "    </tr>\n",
       "    <tr>\n",
       "      <th>4</th>\n",
       "      <td>0.015091</td>\n",
       "      <td>6.0</td>\n",
       "      <td>0.938938</td>\n",
       "      <td>0.954029</td>\n",
       "    </tr>\n",
       "    <tr>\n",
       "      <th>5</th>\n",
       "      <td>0.013133</td>\n",
       "      <td>7.0</td>\n",
       "      <td>0.940306</td>\n",
       "      <td>0.953439</td>\n",
       "    </tr>\n",
       "    <tr>\n",
       "      <th>6</th>\n",
       "      <td>0.011361</td>\n",
       "      <td>8.0</td>\n",
       "      <td>0.939607</td>\n",
       "      <td>0.950968</td>\n",
       "    </tr>\n",
       "    <tr>\n",
       "      <th>7</th>\n",
       "      <td>0.010298</td>\n",
       "      <td>9.0</td>\n",
       "      <td>0.940145</td>\n",
       "      <td>0.950443</td>\n",
       "    </tr>\n",
       "    <tr>\n",
       "      <th>8</th>\n",
       "      <td>0.009402</td>\n",
       "      <td>10.0</td>\n",
       "      <td>0.939452</td>\n",
       "      <td>0.948854</td>\n",
       "    </tr>\n",
       "    <tr>\n",
       "      <th>9</th>\n",
       "      <td>0.008554</td>\n",
       "      <td>11.0</td>\n",
       "      <td>0.939619</td>\n",
       "      <td>0.948174</td>\n",
       "    </tr>\n",
       "    <tr>\n",
       "      <th>10</th>\n",
       "      <td>0.007851</td>\n",
       "      <td>12.0</td>\n",
       "      <td>0.939291</td>\n",
       "      <td>0.947142</td>\n",
       "    </tr>\n",
       "    <tr>\n",
       "      <th>11</th>\n",
       "      <td>0.007494</td>\n",
       "      <td>13.0</td>\n",
       "      <td>0.939237</td>\n",
       "      <td>0.946731</td>\n",
       "    </tr>\n",
       "    <tr>\n",
       "      <th>12</th>\n",
       "      <td>0.007056</td>\n",
       "      <td>14.0</td>\n",
       "      <td>0.938682</td>\n",
       "      <td>0.945737</td>\n",
       "    </tr>\n",
       "    <tr>\n",
       "      <th>13</th>\n",
       "      <td>0.006384</td>\n",
       "      <td>15.0</td>\n",
       "      <td>0.939082</td>\n",
       "      <td>0.945465</td>\n",
       "    </tr>\n",
       "    <tr>\n",
       "      <th>14</th>\n",
       "      <td>0.005996</td>\n",
       "      <td>16.0</td>\n",
       "      <td>0.938688</td>\n",
       "      <td>0.944683</td>\n",
       "    </tr>\n",
       "    <tr>\n",
       "      <th>15</th>\n",
       "      <td>0.005994</td>\n",
       "      <td>17.0</td>\n",
       "      <td>0.938341</td>\n",
       "      <td>0.944335</td>\n",
       "    </tr>\n",
       "    <tr>\n",
       "      <th>16</th>\n",
       "      <td>0.005728</td>\n",
       "      <td>18.0</td>\n",
       "      <td>0.937965</td>\n",
       "      <td>0.943693</td>\n",
       "    </tr>\n",
       "    <tr>\n",
       "      <th>17</th>\n",
       "      <td>0.005357</td>\n",
       "      <td>19.0</td>\n",
       "      <td>0.937953</td>\n",
       "      <td>0.943310</td>\n",
       "    </tr>\n",
       "    <tr>\n",
       "      <th>18</th>\n",
       "      <td>0.004670</td>\n",
       "      <td>20.0</td>\n",
       "      <td>0.937941</td>\n",
       "      <td>0.942611</td>\n",
       "    </tr>\n",
       "    <tr>\n",
       "      <th>19</th>\n",
       "      <td>0.005046</td>\n",
       "      <td>21.0</td>\n",
       "      <td>0.937272</td>\n",
       "      <td>0.942318</td>\n",
       "    </tr>\n",
       "    <tr>\n",
       "      <th>20</th>\n",
       "      <td>0.004555</td>\n",
       "      <td>22.0</td>\n",
       "      <td>0.937201</td>\n",
       "      <td>0.941755</td>\n",
       "    </tr>\n",
       "    <tr>\n",
       "      <th>21</th>\n",
       "      <td>0.004196</td>\n",
       "      <td>23.0</td>\n",
       "      <td>0.937201</td>\n",
       "      <td>0.941397</td>\n",
       "    </tr>\n",
       "    <tr>\n",
       "      <th>22</th>\n",
       "      <td>0.003940</td>\n",
       "      <td>24.0</td>\n",
       "      <td>0.936914</td>\n",
       "      <td>0.940854</td>\n",
       "    </tr>\n",
       "    <tr>\n",
       "      <th>23</th>\n",
       "      <td>0.003977</td>\n",
       "      <td>25.0</td>\n",
       "      <td>0.936603</td>\n",
       "      <td>0.940581</td>\n",
       "    </tr>\n",
       "    <tr>\n",
       "      <th>24</th>\n",
       "      <td>0.003734</td>\n",
       "      <td>26.0</td>\n",
       "      <td>0.936466</td>\n",
       "      <td>0.940200</td>\n",
       "    </tr>\n",
       "    <tr>\n",
       "      <th>25</th>\n",
       "      <td>0.003817</td>\n",
       "      <td>27.0</td>\n",
       "      <td>0.936162</td>\n",
       "      <td>0.939979</td>\n",
       "    </tr>\n",
       "    <tr>\n",
       "      <th>26</th>\n",
       "      <td>0.003538</td>\n",
       "      <td>28.0</td>\n",
       "      <td>0.936096</td>\n",
       "      <td>0.939634</td>\n",
       "    </tr>\n",
       "    <tr>\n",
       "      <th>27</th>\n",
       "      <td>0.003652</td>\n",
       "      <td>29.0</td>\n",
       "      <td>0.935672</td>\n",
       "      <td>0.939323</td>\n",
       "    </tr>\n",
       "  </tbody>\n",
       "</table>\n",
       "</div>"
      ],
      "text/plain": [
       "    Difference     K  Test Score  Train Score\n",
       "0     0.036007   2.0    0.931647     0.967654\n",
       "1     0.028052   3.0    0.938956     0.967009\n",
       "2     0.021603   4.0    0.937135     0.958738\n",
       "3     0.018000   5.0    0.940091     0.958091\n",
       "4     0.015091   6.0    0.938938     0.954029\n",
       "5     0.013133   7.0    0.940306     0.953439\n",
       "6     0.011361   8.0    0.939607     0.950968\n",
       "7     0.010298   9.0    0.940145     0.950443\n",
       "8     0.009402  10.0    0.939452     0.948854\n",
       "9     0.008554  11.0    0.939619     0.948174\n",
       "10    0.007851  12.0    0.939291     0.947142\n",
       "11    0.007494  13.0    0.939237     0.946731\n",
       "12    0.007056  14.0    0.938682     0.945737\n",
       "13    0.006384  15.0    0.939082     0.945465\n",
       "14    0.005996  16.0    0.938688     0.944683\n",
       "15    0.005994  17.0    0.938341     0.944335\n",
       "16    0.005728  18.0    0.937965     0.943693\n",
       "17    0.005357  19.0    0.937953     0.943310\n",
       "18    0.004670  20.0    0.937941     0.942611\n",
       "19    0.005046  21.0    0.937272     0.942318\n",
       "20    0.004555  22.0    0.937201     0.941755\n",
       "21    0.004196  23.0    0.937201     0.941397\n",
       "22    0.003940  24.0    0.936914     0.940854\n",
       "23    0.003977  25.0    0.936603     0.940581\n",
       "24    0.003734  26.0    0.936466     0.940200\n",
       "25    0.003817  27.0    0.936162     0.939979\n",
       "26    0.003538  28.0    0.936096     0.939634\n",
       "27    0.003652  29.0    0.935672     0.939323"
      ]
     },
     "execution_count": 314,
     "metadata": {},
     "output_type": "execute_result"
    }
   ],
   "source": [
    "knn_r_acc_Euc = pd.DataFrame()\n",
    "for i in range(2,30,1):\n",
    "    knn = KNeighborsClassifier(n_neighbors=i)\n",
    "    knn.fit(X_trainScaled,y_train1Values)\n",
    "    test_score = knn.score(X_testScaled,y_test1Values)\n",
    "    train_score = knn.score(X_trainScaled,y_train1Values)\n",
    "    difference=abs(train_score-test_score)\n",
    "    df2 = {'K': i, 'Test Score': test_score, 'Train Score': train_score,'Difference': difference}\n",
    "    knn_r_acc_Euc = knn_r_acc_Euc.append(df2, ignore_index = True)\n",
    "#df = pd.DataFrame(knn_r_acc, columns=['K','Test Score','Train Score'])\n",
    "(knn_r_acc_Euc)"
   ]
  },
  {
   "cell_type": "code",
   "execution_count": 315,
   "metadata": {
    "colab": {
     "base_uri": "https://localhost:8080/",
     "height": 573
    },
    "id": "4FDBSvWrOBxl",
    "outputId": "2bdd9c34-459c-4394-c0cb-8b3d91b926da"
   },
   "outputs": [
    {
     "data": {
      "image/png": "[encoded data removed]",
      "text/plain": [
       "<Figure size 432x288 with 1 Axes>"
      ]
     },
     "metadata": {
      "needs_background": "light"
     },
     "output_type": "display_data"
    },
    {
     "data": {
      "image/png": "[encoded data removed]",
      "text/plain": [
       "<Figure size 432x288 with 1 Axes>"
      ]
     },
     "metadata": {
      "needs_background": "light"
     },
     "output_type": "display_data"
    }
   ],
   "source": [
    "# plot lines\n",
    "plt.plot(knn_r_acc_Euc['K'], knn_r_acc_Euc['Test Score'], label = \"Test\")\n",
    "plt.plot(knn_r_acc_Euc['K'], knn_r_acc_Euc['Train Score'], label = \"Train\")\n",
    "plt.legend()\n",
    "plt.xlabel('Número de vecinos K')\n",
    "# naming the y axis\n",
    "plt.ylabel('Score')\n",
    "# giving a title to my graph\n",
    "plt.title('Train y Test Score Vs K, métrica Euclídea')\n",
    "plt.show()\n",
    "# Difference\n",
    "plt.plot(knn_r_acc_Euc['K'], knn_r_acc_Euc['Difference'], color='red')\n",
    "plt.xlabel('Número de vecinos K')\n",
    "# naming the y axis\n",
    "plt.ylabel('Diferencia Scores')\n",
    "# giving a title to my graph\n",
    "plt.title('Diferencia entre Train y Test Score')\n",
    "plt.show()"
   ]
  },
  {
   "cell_type": "markdown",
   "metadata": {
    "id": "NA8wCjUTOBxn"
   },
   "source": [
    "# Chebyshev"
   ]
  },
  {
   "cell_type": "code",
   "execution_count": 316,
   "metadata": {
    "colab": {
     "base_uri": "https://localhost:8080/",
     "height": 488
    },
    "id": "vqzQUbrKOBxo",
    "outputId": "7a726059-53df-4d2e-8bd1-9f00a01fc7dd"
   },
   "outputs": [
    {
     "data": {
      "text/html": [
       "<div>\n",
       "<style scoped>\n",
       "    .dataframe tbody tr th:only-of-type {\n",
       "        vertical-align: middle;\n",
       "    }\n",
       "\n",
       "    .dataframe tbody tr th {\n",
       "        vertical-align: top;\n",
       "    }\n",
       "\n",
       "    .dataframe thead th {\n",
       "        text-align: right;\n",
       "    }\n",
       "</style>\n",
       "<table border=\"1\" class=\"dataframe\">\n",
       "  <thead>\n",
       "    <tr style=\"text-align: right;\">\n",
       "      <th></th>\n",
       "      <th>Difference</th>\n",
       "      <th>K</th>\n",
       "      <th>Test Score</th>\n",
       "      <th>Train Score</th>\n",
       "    </tr>\n",
       "  </thead>\n",
       "  <tbody>\n",
       "    <tr>\n",
       "      <th>0</th>\n",
       "      <td>0.036588</td>\n",
       "      <td>2.0</td>\n",
       "      <td>0.930435</td>\n",
       "      <td>0.967022</td>\n",
       "    </tr>\n",
       "    <tr>\n",
       "      <th>1</th>\n",
       "      <td>0.028105</td>\n",
       "      <td>3.0</td>\n",
       "      <td>0.937463</td>\n",
       "      <td>0.965568</td>\n",
       "    </tr>\n",
       "    <tr>\n",
       "      <th>2</th>\n",
       "      <td>0.021669</td>\n",
       "      <td>4.0</td>\n",
       "      <td>0.935827</td>\n",
       "      <td>0.957496</td>\n",
       "    </tr>\n",
       "    <tr>\n",
       "      <th>3</th>\n",
       "      <td>0.018239</td>\n",
       "      <td>5.0</td>\n",
       "      <td>0.938090</td>\n",
       "      <td>0.956330</td>\n",
       "    </tr>\n",
       "    <tr>\n",
       "      <th>4</th>\n",
       "      <td>0.015331</td>\n",
       "      <td>6.0</td>\n",
       "      <td>0.936956</td>\n",
       "      <td>0.952287</td>\n",
       "    </tr>\n",
       "    <tr>\n",
       "      <th>5</th>\n",
       "      <td>0.013069</td>\n",
       "      <td>7.0</td>\n",
       "      <td>0.938198</td>\n",
       "      <td>0.951267</td>\n",
       "    </tr>\n",
       "    <tr>\n",
       "      <th>6</th>\n",
       "      <td>0.011527</td>\n",
       "      <td>8.0</td>\n",
       "      <td>0.937457</td>\n",
       "      <td>0.948984</td>\n",
       "    </tr>\n",
       "    <tr>\n",
       "      <th>7</th>\n",
       "      <td>0.010362</td>\n",
       "      <td>9.0</td>\n",
       "      <td>0.938049</td>\n",
       "      <td>0.948411</td>\n",
       "    </tr>\n",
       "    <tr>\n",
       "      <th>8</th>\n",
       "      <td>0.009882</td>\n",
       "      <td>10.0</td>\n",
       "      <td>0.936884</td>\n",
       "      <td>0.946766</td>\n",
       "    </tr>\n",
       "    <tr>\n",
       "      <th>9</th>\n",
       "      <td>0.008662</td>\n",
       "      <td>11.0</td>\n",
       "      <td>0.937278</td>\n",
       "      <td>0.945940</td>\n",
       "    </tr>\n",
       "    <tr>\n",
       "      <th>10</th>\n",
       "      <td>0.008201</td>\n",
       "      <td>12.0</td>\n",
       "      <td>0.936639</td>\n",
       "      <td>0.944840</td>\n",
       "    </tr>\n",
       "    <tr>\n",
       "      <th>11</th>\n",
       "      <td>0.007803</td>\n",
       "      <td>13.0</td>\n",
       "      <td>0.936609</td>\n",
       "      <td>0.944413</td>\n",
       "    </tr>\n",
       "    <tr>\n",
       "      <th>12</th>\n",
       "      <td>0.007299</td>\n",
       "      <td>14.0</td>\n",
       "      <td>0.935970</td>\n",
       "      <td>0.943269</td>\n",
       "    </tr>\n",
       "    <tr>\n",
       "      <th>13</th>\n",
       "      <td>0.006694</td>\n",
       "      <td>15.0</td>\n",
       "      <td>0.936191</td>\n",
       "      <td>0.942886</td>\n",
       "    </tr>\n",
       "    <tr>\n",
       "      <th>14</th>\n",
       "      <td>0.006219</td>\n",
       "      <td>16.0</td>\n",
       "      <td>0.935851</td>\n",
       "      <td>0.942070</td>\n",
       "    </tr>\n",
       "    <tr>\n",
       "      <th>15</th>\n",
       "      <td>0.005881</td>\n",
       "      <td>17.0</td>\n",
       "      <td>0.935761</td>\n",
       "      <td>0.941642</td>\n",
       "    </tr>\n",
       "    <tr>\n",
       "      <th>16</th>\n",
       "      <td>0.005604</td>\n",
       "      <td>18.0</td>\n",
       "      <td>0.935314</td>\n",
       "      <td>0.940918</td>\n",
       "    </tr>\n",
       "    <tr>\n",
       "      <th>17</th>\n",
       "      <td>0.005182</td>\n",
       "      <td>19.0</td>\n",
       "      <td>0.935260</td>\n",
       "      <td>0.940442</td>\n",
       "    </tr>\n",
       "    <tr>\n",
       "      <th>18</th>\n",
       "      <td>0.005042</td>\n",
       "      <td>20.0</td>\n",
       "      <td>0.934752</td>\n",
       "      <td>0.939794</td>\n",
       "    </tr>\n",
       "    <tr>\n",
       "      <th>19</th>\n",
       "      <td>0.005007</td>\n",
       "      <td>21.0</td>\n",
       "      <td>0.934651</td>\n",
       "      <td>0.939658</td>\n",
       "    </tr>\n",
       "    <tr>\n",
       "      <th>20</th>\n",
       "      <td>0.004750</td>\n",
       "      <td>22.0</td>\n",
       "      <td>0.934221</td>\n",
       "      <td>0.938971</td>\n",
       "    </tr>\n",
       "    <tr>\n",
       "      <th>21</th>\n",
       "      <td>0.004525</td>\n",
       "      <td>23.0</td>\n",
       "      <td>0.934155</td>\n",
       "      <td>0.938680</td>\n",
       "    </tr>\n",
       "    <tr>\n",
       "      <th>22</th>\n",
       "      <td>0.004531</td>\n",
       "      <td>24.0</td>\n",
       "      <td>0.933659</td>\n",
       "      <td>0.938190</td>\n",
       "    </tr>\n",
       "    <tr>\n",
       "      <th>23</th>\n",
       "      <td>0.004159</td>\n",
       "      <td>25.0</td>\n",
       "      <td>0.933785</td>\n",
       "      <td>0.937944</td>\n",
       "    </tr>\n",
       "    <tr>\n",
       "      <th>24</th>\n",
       "      <td>0.004029</td>\n",
       "      <td>26.0</td>\n",
       "      <td>0.933391</td>\n",
       "      <td>0.937420</td>\n",
       "    </tr>\n",
       "    <tr>\n",
       "      <th>25</th>\n",
       "      <td>0.003971</td>\n",
       "      <td>27.0</td>\n",
       "      <td>0.933206</td>\n",
       "      <td>0.937177</td>\n",
       "    </tr>\n",
       "    <tr>\n",
       "      <th>26</th>\n",
       "      <td>0.003804</td>\n",
       "      <td>28.0</td>\n",
       "      <td>0.932943</td>\n",
       "      <td>0.936747</td>\n",
       "    </tr>\n",
       "    <tr>\n",
       "      <th>27</th>\n",
       "      <td>0.004040</td>\n",
       "      <td>29.0</td>\n",
       "      <td>0.932507</td>\n",
       "      <td>0.936547</td>\n",
       "    </tr>\n",
       "  </tbody>\n",
       "</table>\n",
       "</div>"
      ],
      "text/plain": [
       "    Difference     K  Test Score  Train Score\n",
       "0     0.036588   2.0    0.930435     0.967022\n",
       "1     0.028105   3.0    0.937463     0.965568\n",
       "2     0.021669   4.0    0.935827     0.957496\n",
       "3     0.018239   5.0    0.938090     0.956330\n",
       "4     0.015331   6.0    0.936956     0.952287\n",
       "5     0.013069   7.0    0.938198     0.951267\n",
       "6     0.011527   8.0    0.937457     0.948984\n",
       "7     0.010362   9.0    0.938049     0.948411\n",
       "8     0.009882  10.0    0.936884     0.946766\n",
       "9     0.008662  11.0    0.937278     0.945940\n",
       "10    0.008201  12.0    0.936639     0.944840\n",
       "11    0.007803  13.0    0.936609     0.944413\n",
       "12    0.007299  14.0    0.935970     0.943269\n",
       "13    0.006694  15.0    0.936191     0.942886\n",
       "14    0.006219  16.0    0.935851     0.942070\n",
       "15    0.005881  17.0    0.935761     0.941642\n",
       "16    0.005604  18.0    0.935314     0.940918\n",
       "17    0.005182  19.0    0.935260     0.940442\n",
       "18    0.005042  20.0    0.934752     0.939794\n",
       "19    0.005007  21.0    0.934651     0.939658\n",
       "20    0.004750  22.0    0.934221     0.938971\n",
       "21    0.004525  23.0    0.934155     0.938680\n",
       "22    0.004531  24.0    0.933659     0.938190\n",
       "23    0.004159  25.0    0.933785     0.937944\n",
       "24    0.004029  26.0    0.933391     0.937420\n",
       "25    0.003971  27.0    0.933206     0.937177\n",
       "26    0.003804  28.0    0.932943     0.936747\n",
       "27    0.004040  29.0    0.932507     0.936547"
      ]
     },
     "execution_count": 316,
     "metadata": {},
     "output_type": "execute_result"
    }
   ],
   "source": [
    "knn_r_acc_Cheb = pd.DataFrame()\n",
    "for i in range(2,30,1):\n",
    "    knn = KNeighborsClassifier(n_neighbors=i, metric='chebyshev')\n",
    "    knn.fit(X_trainScaled,y_train1Values)\n",
    "    test_score = knn.score(X_testScaled,y_test1Values)\n",
    "    train_score = knn.score(X_trainScaled,y_train1Values)\n",
    "    difference=abs(train_score-test_score)\n",
    "    df2 = {'K': i, 'Test Score': test_score, 'Train Score': train_score,'Difference': difference}\n",
    "    knn_r_acc_Cheb = knn_r_acc_Cheb.append(df2, ignore_index = True)\n",
    "#df = pd.DataFrame(knn_r_acc, columns=['K','Test Score','Train Score'])\n",
    "(knn_r_acc_Cheb)"
   ]
  },
  {
   "cell_type": "code",
   "execution_count": 317,
   "metadata": {
    "colab": {
     "base_uri": "https://localhost:8080/",
     "height": 573
    },
    "id": "Jxksd49DOBxr",
    "outputId": "7a7b16ca-28b3-4281-a266-6d03da39b5b6"
   },
   "outputs": [
    {
     "data": {
      "image/png": "[encoded data removed]",
      "text/plain": [
       "<Figure size 432x288 with 1 Axes>"
      ]
     },
     "metadata": {
      "needs_background": "light"
     },
     "output_type": "display_data"
    },
    {
     "data": {
      "image/png": "[encoded data removed]",
      "text/plain": [
       "<Figure size 432x288 with 1 Axes>"
      ]
     },
     "metadata": {
      "needs_background": "light"
     },
     "output_type": "display_data"
    }
   ],
   "source": [
    "# plot lines\n",
    "plt.plot(knn_r_acc_Cheb['K'], knn_r_acc_Cheb['Test Score'], label = \"Test\")\n",
    "plt.plot(knn_r_acc_Cheb['K'], knn_r_acc_Cheb['Train Score'], label = \"Train\")\n",
    "plt.legend()\n",
    "plt.xlabel('Número de vecinos K')\n",
    "# naming the y axis\n",
    "plt.ylabel('Score')\n",
    "# giving a title to my graph\n",
    "plt.title('Train y Test Score Vs K, métrica Chebyshev')\n",
    "plt.show()\n",
    "# Difference\n",
    "plt.plot(knn_r_acc_Cheb['K'], knn_r_acc_Cheb['Difference'], color='red')\n",
    "plt.xlabel('Número de vecinos K')\n",
    "# naming the y axis\n",
    "plt.ylabel('Diferencia Scores')\n",
    "# giving a title to my graph\n",
    "plt.title('Diferencia entre Train y Test Score')\n",
    "plt.show()"
   ]
  },
  {
   "cell_type": "code",
   "execution_count": 318,
   "metadata": {
    "colab": {
     "base_uri": "https://localhost:8080/",
     "height": 175
    },
    "id": "iwMKlG5c5_Lf",
    "outputId": "1de77577-d814-48ae-91ef-f073bb0be5d5"
   },
   "outputs": [
    {
     "data": {
      "text/html": [
       "<div>\n",
       "<style scoped>\n",
       "    .dataframe tbody tr th:only-of-type {\n",
       "        vertical-align: middle;\n",
       "    }\n",
       "\n",
       "    .dataframe tbody tr th {\n",
       "        vertical-align: top;\n",
       "    }\n",
       "\n",
       "    .dataframe thead th {\n",
       "        text-align: right;\n",
       "    }\n",
       "</style>\n",
       "<table border=\"1\" class=\"dataframe\">\n",
       "  <thead>\n",
       "    <tr style=\"text-align: right;\">\n",
       "      <th></th>\n",
       "      <th>Difference</th>\n",
       "      <th>K</th>\n",
       "      <th>Test Score</th>\n",
       "      <th>Train Score</th>\n",
       "    </tr>\n",
       "  </thead>\n",
       "  <tbody>\n",
       "    <tr>\n",
       "      <th>5</th>\n",
       "      <td>0.012866</td>\n",
       "      <td>7.0</td>\n",
       "      <td>0.943435</td>\n",
       "      <td>0.956301</td>\n",
       "    </tr>\n",
       "    <tr>\n",
       "      <th>6</th>\n",
       "      <td>0.011284</td>\n",
       "      <td>8.0</td>\n",
       "      <td>0.942611</td>\n",
       "      <td>0.953895</td>\n",
       "    </tr>\n",
       "    <tr>\n",
       "      <th>7</th>\n",
       "      <td>0.010309</td>\n",
       "      <td>9.0</td>\n",
       "      <td>0.943238</td>\n",
       "      <td>0.953547</td>\n",
       "    </tr>\n",
       "    <tr>\n",
       "      <th>8</th>\n",
       "      <td>0.009238</td>\n",
       "      <td>10.0</td>\n",
       "      <td>0.942689</td>\n",
       "      <td>0.951927</td>\n",
       "    </tr>\n",
       "    <tr>\n",
       "      <th>9</th>\n",
       "      <td>0.008541</td>\n",
       "      <td>11.0</td>\n",
       "      <td>0.943023</td>\n",
       "      <td>0.951564</td>\n",
       "    </tr>\n",
       "    <tr>\n",
       "      <th>10</th>\n",
       "      <td>0.008171</td>\n",
       "      <td>12.0</td>\n",
       "      <td>0.942295</td>\n",
       "      <td>0.950465</td>\n",
       "    </tr>\n",
       "    <tr>\n",
       "      <th>11</th>\n",
       "      <td>0.007583</td>\n",
       "      <td>13.0</td>\n",
       "      <td>0.942498</td>\n",
       "      <td>0.950080</td>\n",
       "    </tr>\n",
       "    <tr>\n",
       "      <th>12</th>\n",
       "      <td>0.006996</td>\n",
       "      <td>14.0</td>\n",
       "      <td>0.942098</td>\n",
       "      <td>0.949093</td>\n",
       "    </tr>\n",
       "    <tr>\n",
       "      <th>13</th>\n",
       "      <td>0.006181</td>\n",
       "      <td>15.0</td>\n",
       "      <td>0.942683</td>\n",
       "      <td>0.948863</td>\n",
       "    </tr>\n",
       "    <tr>\n",
       "      <th>14</th>\n",
       "      <td>0.006134</td>\n",
       "      <td>16.0</td>\n",
       "      <td>0.942020</td>\n",
       "      <td>0.948154</td>\n",
       "    </tr>\n",
       "    <tr>\n",
       "      <th>15</th>\n",
       "      <td>0.005875</td>\n",
       "      <td>17.0</td>\n",
       "      <td>0.942157</td>\n",
       "      <td>0.948032</td>\n",
       "    </tr>\n",
       "    <tr>\n",
       "      <th>16</th>\n",
       "      <td>0.005412</td>\n",
       "      <td>18.0</td>\n",
       "      <td>0.941775</td>\n",
       "      <td>0.947187</td>\n",
       "    </tr>\n",
       "    <tr>\n",
       "      <th>17</th>\n",
       "      <td>0.005367</td>\n",
       "      <td>19.0</td>\n",
       "      <td>0.941715</td>\n",
       "      <td>0.947082</td>\n",
       "    </tr>\n",
       "    <tr>\n",
       "      <th>18</th>\n",
       "      <td>0.004910</td>\n",
       "      <td>20.0</td>\n",
       "      <td>0.941465</td>\n",
       "      <td>0.946375</td>\n",
       "    </tr>\n",
       "    <tr>\n",
       "      <th>19</th>\n",
       "      <td>0.005167</td>\n",
       "      <td>21.0</td>\n",
       "      <td>0.941154</td>\n",
       "      <td>0.946321</td>\n",
       "    </tr>\n",
       "    <tr>\n",
       "      <th>20</th>\n",
       "      <td>0.004697</td>\n",
       "      <td>22.0</td>\n",
       "      <td>0.940975</td>\n",
       "      <td>0.945671</td>\n",
       "    </tr>\n",
       "    <tr>\n",
       "      <th>21</th>\n",
       "      <td>0.004480</td>\n",
       "      <td>23.0</td>\n",
       "      <td>0.940987</td>\n",
       "      <td>0.945467</td>\n",
       "    </tr>\n",
       "    <tr>\n",
       "      <th>22</th>\n",
       "      <td>0.004231</td>\n",
       "      <td>24.0</td>\n",
       "      <td>0.940730</td>\n",
       "      <td>0.944961</td>\n",
       "    </tr>\n",
       "    <tr>\n",
       "      <th>23</th>\n",
       "      <td>0.004128</td>\n",
       "      <td>25.0</td>\n",
       "      <td>0.940640</td>\n",
       "      <td>0.944768</td>\n",
       "    </tr>\n",
       "    <tr>\n",
       "      <th>24</th>\n",
       "      <td>0.003789</td>\n",
       "      <td>26.0</td>\n",
       "      <td>0.940515</td>\n",
       "      <td>0.944304</td>\n",
       "    </tr>\n",
       "    <tr>\n",
       "      <th>25</th>\n",
       "      <td>0.003658</td>\n",
       "      <td>27.0</td>\n",
       "      <td>0.940443</td>\n",
       "      <td>0.944101</td>\n",
       "    </tr>\n",
       "    <tr>\n",
       "      <th>26</th>\n",
       "      <td>0.003495</td>\n",
       "      <td>28.0</td>\n",
       "      <td>0.940288</td>\n",
       "      <td>0.943783</td>\n",
       "    </tr>\n",
       "    <tr>\n",
       "      <th>27</th>\n",
       "      <td>0.003632</td>\n",
       "      <td>29.0</td>\n",
       "      <td>0.939954</td>\n",
       "      <td>0.943586</td>\n",
       "    </tr>\n",
       "  </tbody>\n",
       "</table>\n",
       "</div>"
      ],
      "text/plain": [
       "    Difference     K  Test Score  Train Score\n",
       "5     0.012866   7.0    0.943435     0.956301\n",
       "6     0.011284   8.0    0.942611     0.953895\n",
       "7     0.010309   9.0    0.943238     0.953547\n",
       "8     0.009238  10.0    0.942689     0.951927\n",
       "9     0.008541  11.0    0.943023     0.951564\n",
       "10    0.008171  12.0    0.942295     0.950465\n",
       "11    0.007583  13.0    0.942498     0.950080\n",
       "12    0.006996  14.0    0.942098     0.949093\n",
       "13    0.006181  15.0    0.942683     0.948863\n",
       "14    0.006134  16.0    0.942020     0.948154\n",
       "15    0.005875  17.0    0.942157     0.948032\n",
       "16    0.005412  18.0    0.941775     0.947187\n",
       "17    0.005367  19.0    0.941715     0.947082\n",
       "18    0.004910  20.0    0.941465     0.946375\n",
       "19    0.005167  21.0    0.941154     0.946321\n",
       "20    0.004697  22.0    0.940975     0.945671\n",
       "21    0.004480  23.0    0.940987     0.945467\n",
       "22    0.004231  24.0    0.940730     0.944961\n",
       "23    0.004128  25.0    0.940640     0.944768\n",
       "24    0.003789  26.0    0.940515     0.944304\n",
       "25    0.003658  27.0    0.940443     0.944101\n",
       "26    0.003495  28.0    0.940288     0.943783\n",
       "27    0.003632  29.0    0.939954     0.943586"
      ]
     },
     "execution_count": 318,
     "metadata": {},
     "output_type": "execute_result"
    }
   ],
   "source": [
    "knn_r_acc_Manh.iloc[5:28,:]"
   ]
  },
  {
   "cell_type": "code",
   "execution_count": 319,
   "metadata": {
    "colab": {
     "base_uri": "https://localhost:8080/",
     "height": 175
    },
    "id": "H7GaxuUv5zD4",
    "outputId": "0bd0a8e0-d63b-48de-f8cf-cd63786d1b5f"
   },
   "outputs": [
    {
     "data": {
      "text/html": [
       "<div>\n",
       "<style scoped>\n",
       "    .dataframe tbody tr th:only-of-type {\n",
       "        vertical-align: middle;\n",
       "    }\n",
       "\n",
       "    .dataframe tbody tr th {\n",
       "        vertical-align: top;\n",
       "    }\n",
       "\n",
       "    .dataframe thead th {\n",
       "        text-align: right;\n",
       "    }\n",
       "</style>\n",
       "<table border=\"1\" class=\"dataframe\">\n",
       "  <thead>\n",
       "    <tr style=\"text-align: right;\">\n",
       "      <th></th>\n",
       "      <th>Difference</th>\n",
       "      <th>K</th>\n",
       "      <th>Test Score</th>\n",
       "      <th>Train Score</th>\n",
       "    </tr>\n",
       "  </thead>\n",
       "  <tbody>\n",
       "    <tr>\n",
       "      <th>5</th>\n",
       "      <td>0.013133</td>\n",
       "      <td>7.0</td>\n",
       "      <td>0.940306</td>\n",
       "      <td>0.953439</td>\n",
       "    </tr>\n",
       "    <tr>\n",
       "      <th>6</th>\n",
       "      <td>0.011361</td>\n",
       "      <td>8.0</td>\n",
       "      <td>0.939607</td>\n",
       "      <td>0.950968</td>\n",
       "    </tr>\n",
       "    <tr>\n",
       "      <th>7</th>\n",
       "      <td>0.010298</td>\n",
       "      <td>9.0</td>\n",
       "      <td>0.940145</td>\n",
       "      <td>0.950443</td>\n",
       "    </tr>\n",
       "    <tr>\n",
       "      <th>8</th>\n",
       "      <td>0.009402</td>\n",
       "      <td>10.0</td>\n",
       "      <td>0.939452</td>\n",
       "      <td>0.948854</td>\n",
       "    </tr>\n",
       "    <tr>\n",
       "      <th>9</th>\n",
       "      <td>0.008554</td>\n",
       "      <td>11.0</td>\n",
       "      <td>0.939619</td>\n",
       "      <td>0.948174</td>\n",
       "    </tr>\n",
       "    <tr>\n",
       "      <th>10</th>\n",
       "      <td>0.007851</td>\n",
       "      <td>12.0</td>\n",
       "      <td>0.939291</td>\n",
       "      <td>0.947142</td>\n",
       "    </tr>\n",
       "    <tr>\n",
       "      <th>11</th>\n",
       "      <td>0.007494</td>\n",
       "      <td>13.0</td>\n",
       "      <td>0.939237</td>\n",
       "      <td>0.946731</td>\n",
       "    </tr>\n",
       "    <tr>\n",
       "      <th>12</th>\n",
       "      <td>0.007056</td>\n",
       "      <td>14.0</td>\n",
       "      <td>0.938682</td>\n",
       "      <td>0.945737</td>\n",
       "    </tr>\n",
       "    <tr>\n",
       "      <th>13</th>\n",
       "      <td>0.006384</td>\n",
       "      <td>15.0</td>\n",
       "      <td>0.939082</td>\n",
       "      <td>0.945465</td>\n",
       "    </tr>\n",
       "    <tr>\n",
       "      <th>14</th>\n",
       "      <td>0.005996</td>\n",
       "      <td>16.0</td>\n",
       "      <td>0.938688</td>\n",
       "      <td>0.944683</td>\n",
       "    </tr>\n",
       "    <tr>\n",
       "      <th>15</th>\n",
       "      <td>0.005994</td>\n",
       "      <td>17.0</td>\n",
       "      <td>0.938341</td>\n",
       "      <td>0.944335</td>\n",
       "    </tr>\n",
       "    <tr>\n",
       "      <th>16</th>\n",
       "      <td>0.005728</td>\n",
       "      <td>18.0</td>\n",
       "      <td>0.937965</td>\n",
       "      <td>0.943693</td>\n",
       "    </tr>\n",
       "    <tr>\n",
       "      <th>17</th>\n",
       "      <td>0.005357</td>\n",
       "      <td>19.0</td>\n",
       "      <td>0.937953</td>\n",
       "      <td>0.943310</td>\n",
       "    </tr>\n",
       "    <tr>\n",
       "      <th>18</th>\n",
       "      <td>0.004670</td>\n",
       "      <td>20.0</td>\n",
       "      <td>0.937941</td>\n",
       "      <td>0.942611</td>\n",
       "    </tr>\n",
       "    <tr>\n",
       "      <th>19</th>\n",
       "      <td>0.005046</td>\n",
       "      <td>21.0</td>\n",
       "      <td>0.937272</td>\n",
       "      <td>0.942318</td>\n",
       "    </tr>\n",
       "    <tr>\n",
       "      <th>20</th>\n",
       "      <td>0.004555</td>\n",
       "      <td>22.0</td>\n",
       "      <td>0.937201</td>\n",
       "      <td>0.941755</td>\n",
       "    </tr>\n",
       "    <tr>\n",
       "      <th>21</th>\n",
       "      <td>0.004196</td>\n",
       "      <td>23.0</td>\n",
       "      <td>0.937201</td>\n",
       "      <td>0.941397</td>\n",
       "    </tr>\n",
       "    <tr>\n",
       "      <th>22</th>\n",
       "      <td>0.003940</td>\n",
       "      <td>24.0</td>\n",
       "      <td>0.936914</td>\n",
       "      <td>0.940854</td>\n",
       "    </tr>\n",
       "    <tr>\n",
       "      <th>23</th>\n",
       "      <td>0.003977</td>\n",
       "      <td>25.0</td>\n",
       "      <td>0.936603</td>\n",
       "      <td>0.940581</td>\n",
       "    </tr>\n",
       "    <tr>\n",
       "      <th>24</th>\n",
       "      <td>0.003734</td>\n",
       "      <td>26.0</td>\n",
       "      <td>0.936466</td>\n",
       "      <td>0.940200</td>\n",
       "    </tr>\n",
       "    <tr>\n",
       "      <th>25</th>\n",
       "      <td>0.003817</td>\n",
       "      <td>27.0</td>\n",
       "      <td>0.936162</td>\n",
       "      <td>0.939979</td>\n",
       "    </tr>\n",
       "    <tr>\n",
       "      <th>26</th>\n",
       "      <td>0.003538</td>\n",
       "      <td>28.0</td>\n",
       "      <td>0.936096</td>\n",
       "      <td>0.939634</td>\n",
       "    </tr>\n",
       "    <tr>\n",
       "      <th>27</th>\n",
       "      <td>0.003652</td>\n",
       "      <td>29.0</td>\n",
       "      <td>0.935672</td>\n",
       "      <td>0.939323</td>\n",
       "    </tr>\n",
       "  </tbody>\n",
       "</table>\n",
       "</div>"
      ],
      "text/plain": [
       "    Difference     K  Test Score  Train Score\n",
       "5     0.013133   7.0    0.940306     0.953439\n",
       "6     0.011361   8.0    0.939607     0.950968\n",
       "7     0.010298   9.0    0.940145     0.950443\n",
       "8     0.009402  10.0    0.939452     0.948854\n",
       "9     0.008554  11.0    0.939619     0.948174\n",
       "10    0.007851  12.0    0.939291     0.947142\n",
       "11    0.007494  13.0    0.939237     0.946731\n",
       "12    0.007056  14.0    0.938682     0.945737\n",
       "13    0.006384  15.0    0.939082     0.945465\n",
       "14    0.005996  16.0    0.938688     0.944683\n",
       "15    0.005994  17.0    0.938341     0.944335\n",
       "16    0.005728  18.0    0.937965     0.943693\n",
       "17    0.005357  19.0    0.937953     0.943310\n",
       "18    0.004670  20.0    0.937941     0.942611\n",
       "19    0.005046  21.0    0.937272     0.942318\n",
       "20    0.004555  22.0    0.937201     0.941755\n",
       "21    0.004196  23.0    0.937201     0.941397\n",
       "22    0.003940  24.0    0.936914     0.940854\n",
       "23    0.003977  25.0    0.936603     0.940581\n",
       "24    0.003734  26.0    0.936466     0.940200\n",
       "25    0.003817  27.0    0.936162     0.939979\n",
       "26    0.003538  28.0    0.936096     0.939634\n",
       "27    0.003652  29.0    0.935672     0.939323"
      ]
     },
     "execution_count": 319,
     "metadata": {},
     "output_type": "execute_result"
    }
   ],
   "source": [
    "knn_r_acc_Euc.iloc[5:28,:]"
   ]
  },
  {
   "cell_type": "code",
   "execution_count": 320,
   "metadata": {
    "colab": {
     "base_uri": "https://localhost:8080/",
     "height": 175
    },
    "id": "SDAq6aiZ6AZ-",
    "outputId": "c14c77bc-118a-48cd-e32d-d97b44aea26d"
   },
   "outputs": [
    {
     "data": {
      "text/html": [
       "<div>\n",
       "<style scoped>\n",
       "    .dataframe tbody tr th:only-of-type {\n",
       "        vertical-align: middle;\n",
       "    }\n",
       "\n",
       "    .dataframe tbody tr th {\n",
       "        vertical-align: top;\n",
       "    }\n",
       "\n",
       "    .dataframe thead th {\n",
       "        text-align: right;\n",
       "    }\n",
       "</style>\n",
       "<table border=\"1\" class=\"dataframe\">\n",
       "  <thead>\n",
       "    <tr style=\"text-align: right;\">\n",
       "      <th></th>\n",
       "      <th>Difference</th>\n",
       "      <th>K</th>\n",
       "      <th>Test Score</th>\n",
       "      <th>Train Score</th>\n",
       "    </tr>\n",
       "  </thead>\n",
       "  <tbody>\n",
       "    <tr>\n",
       "      <th>5</th>\n",
       "      <td>0.013069</td>\n",
       "      <td>7.0</td>\n",
       "      <td>0.938198</td>\n",
       "      <td>0.951267</td>\n",
       "    </tr>\n",
       "    <tr>\n",
       "      <th>6</th>\n",
       "      <td>0.011527</td>\n",
       "      <td>8.0</td>\n",
       "      <td>0.937457</td>\n",
       "      <td>0.948984</td>\n",
       "    </tr>\n",
       "    <tr>\n",
       "      <th>7</th>\n",
       "      <td>0.010362</td>\n",
       "      <td>9.0</td>\n",
       "      <td>0.938049</td>\n",
       "      <td>0.948411</td>\n",
       "    </tr>\n",
       "    <tr>\n",
       "      <th>8</th>\n",
       "      <td>0.009882</td>\n",
       "      <td>10.0</td>\n",
       "      <td>0.936884</td>\n",
       "      <td>0.946766</td>\n",
       "    </tr>\n",
       "    <tr>\n",
       "      <th>9</th>\n",
       "      <td>0.008662</td>\n",
       "      <td>11.0</td>\n",
       "      <td>0.937278</td>\n",
       "      <td>0.945940</td>\n",
       "    </tr>\n",
       "    <tr>\n",
       "      <th>10</th>\n",
       "      <td>0.008201</td>\n",
       "      <td>12.0</td>\n",
       "      <td>0.936639</td>\n",
       "      <td>0.944840</td>\n",
       "    </tr>\n",
       "    <tr>\n",
       "      <th>11</th>\n",
       "      <td>0.007803</td>\n",
       "      <td>13.0</td>\n",
       "      <td>0.936609</td>\n",
       "      <td>0.944413</td>\n",
       "    </tr>\n",
       "    <tr>\n",
       "      <th>12</th>\n",
       "      <td>0.007299</td>\n",
       "      <td>14.0</td>\n",
       "      <td>0.935970</td>\n",
       "      <td>0.943269</td>\n",
       "    </tr>\n",
       "    <tr>\n",
       "      <th>13</th>\n",
       "      <td>0.006694</td>\n",
       "      <td>15.0</td>\n",
       "      <td>0.936191</td>\n",
       "      <td>0.942886</td>\n",
       "    </tr>\n",
       "    <tr>\n",
       "      <th>14</th>\n",
       "      <td>0.006219</td>\n",
       "      <td>16.0</td>\n",
       "      <td>0.935851</td>\n",
       "      <td>0.942070</td>\n",
       "    </tr>\n",
       "    <tr>\n",
       "      <th>15</th>\n",
       "      <td>0.005881</td>\n",
       "      <td>17.0</td>\n",
       "      <td>0.935761</td>\n",
       "      <td>0.941642</td>\n",
       "    </tr>\n",
       "    <tr>\n",
       "      <th>16</th>\n",
       "      <td>0.005604</td>\n",
       "      <td>18.0</td>\n",
       "      <td>0.935314</td>\n",
       "      <td>0.940918</td>\n",
       "    </tr>\n",
       "    <tr>\n",
       "      <th>17</th>\n",
       "      <td>0.005182</td>\n",
       "      <td>19.0</td>\n",
       "      <td>0.935260</td>\n",
       "      <td>0.940442</td>\n",
       "    </tr>\n",
       "    <tr>\n",
       "      <th>18</th>\n",
       "      <td>0.005042</td>\n",
       "      <td>20.0</td>\n",
       "      <td>0.934752</td>\n",
       "      <td>0.939794</td>\n",
       "    </tr>\n",
       "    <tr>\n",
       "      <th>19</th>\n",
       "      <td>0.005007</td>\n",
       "      <td>21.0</td>\n",
       "      <td>0.934651</td>\n",
       "      <td>0.939658</td>\n",
       "    </tr>\n",
       "    <tr>\n",
       "      <th>20</th>\n",
       "      <td>0.004750</td>\n",
       "      <td>22.0</td>\n",
       "      <td>0.934221</td>\n",
       "      <td>0.938971</td>\n",
       "    </tr>\n",
       "    <tr>\n",
       "      <th>21</th>\n",
       "      <td>0.004525</td>\n",
       "      <td>23.0</td>\n",
       "      <td>0.934155</td>\n",
       "      <td>0.938680</td>\n",
       "    </tr>\n",
       "    <tr>\n",
       "      <th>22</th>\n",
       "      <td>0.004531</td>\n",
       "      <td>24.0</td>\n",
       "      <td>0.933659</td>\n",
       "      <td>0.938190</td>\n",
       "    </tr>\n",
       "    <tr>\n",
       "      <th>23</th>\n",
       "      <td>0.004159</td>\n",
       "      <td>25.0</td>\n",
       "      <td>0.933785</td>\n",
       "      <td>0.937944</td>\n",
       "    </tr>\n",
       "    <tr>\n",
       "      <th>24</th>\n",
       "      <td>0.004029</td>\n",
       "      <td>26.0</td>\n",
       "      <td>0.933391</td>\n",
       "      <td>0.937420</td>\n",
       "    </tr>\n",
       "    <tr>\n",
       "      <th>25</th>\n",
       "      <td>0.003971</td>\n",
       "      <td>27.0</td>\n",
       "      <td>0.933206</td>\n",
       "      <td>0.937177</td>\n",
       "    </tr>\n",
       "    <tr>\n",
       "      <th>26</th>\n",
       "      <td>0.003804</td>\n",
       "      <td>28.0</td>\n",
       "      <td>0.932943</td>\n",
       "      <td>0.936747</td>\n",
       "    </tr>\n",
       "    <tr>\n",
       "      <th>27</th>\n",
       "      <td>0.004040</td>\n",
       "      <td>29.0</td>\n",
       "      <td>0.932507</td>\n",
       "      <td>0.936547</td>\n",
       "    </tr>\n",
       "  </tbody>\n",
       "</table>\n",
       "</div>"
      ],
      "text/plain": [
       "    Difference     K  Test Score  Train Score\n",
       "5     0.013069   7.0    0.938198     0.951267\n",
       "6     0.011527   8.0    0.937457     0.948984\n",
       "7     0.010362   9.0    0.938049     0.948411\n",
       "8     0.009882  10.0    0.936884     0.946766\n",
       "9     0.008662  11.0    0.937278     0.945940\n",
       "10    0.008201  12.0    0.936639     0.944840\n",
       "11    0.007803  13.0    0.936609     0.944413\n",
       "12    0.007299  14.0    0.935970     0.943269\n",
       "13    0.006694  15.0    0.936191     0.942886\n",
       "14    0.006219  16.0    0.935851     0.942070\n",
       "15    0.005881  17.0    0.935761     0.941642\n",
       "16    0.005604  18.0    0.935314     0.940918\n",
       "17    0.005182  19.0    0.935260     0.940442\n",
       "18    0.005042  20.0    0.934752     0.939794\n",
       "19    0.005007  21.0    0.934651     0.939658\n",
       "20    0.004750  22.0    0.934221     0.938971\n",
       "21    0.004525  23.0    0.934155     0.938680\n",
       "22    0.004531  24.0    0.933659     0.938190\n",
       "23    0.004159  25.0    0.933785     0.937944\n",
       "24    0.004029  26.0    0.933391     0.937420\n",
       "25    0.003971  27.0    0.933206     0.937177\n",
       "26    0.003804  28.0    0.932943     0.936747\n",
       "27    0.004040  29.0    0.932507     0.936547"
      ]
     },
     "execution_count": 320,
     "metadata": {},
     "output_type": "execute_result"
    }
   ],
   "source": [
    "knn_r_acc_Cheb.iloc[5:28,:]"
   ]
  },
  {
   "cell_type": "markdown",
   "metadata": {},
   "source": [
    "Plot all Differences"
   ]
  },
  {
   "cell_type": "code",
   "execution_count": 322,
   "metadata": {},
   "outputs": [
    {
     "data": {
      "image/png": "[encoded data removed]",
      "text/plain": [
       "<Figure size 432x288 with 1 Axes>"
      ]
     },
     "metadata": {
      "needs_background": "light"
     },
     "output_type": "display_data"
    }
   ],
   "source": [
    "plt.plot(knn_r_acc_Manh['K'], knn_r_acc_Manh['Difference'], color='red',linewidth=0.5)\n",
    "plt.plot(knn_r_acc_Euc['K'], knn_r_acc_Euc['Difference'], color='blue',linewidth=0.5)\n",
    "plt.plot(knn_r_acc_Cheb['K'], knn_r_acc_Cheb['Difference'], color='green',linewidth=0.1)\n",
    "plt.xlabel('Número de vecinos K')\n",
    "# naming the y axis\n",
    "plt.ylabel('Diferencia Scores')\n",
    "# giving a title to my graph\n",
    "plt.title('Diferencia entre Train y Test Score')\n",
    "plt.show()"
   ]
  },
  {
   "cell_type": "markdown",
   "metadata": {},
   "source": [
    "SAVE DATAFRAME Excel"
   ]
  },
  {
   "cell_type": "code",
   "execution_count": 325,
   "metadata": {},
   "outputs": [],
   "source": [
    "knn_r_acc_Manh.to_excel(\"diff_Manh.xlsx\")"
   ]
  },
  {
   "cell_type": "code",
   "execution_count": 326,
   "metadata": {},
   "outputs": [],
   "source": [
    "knn_r_acc_Euc.to_excel(\"diff_Euc.xlsx\")"
   ]
  },
  {
   "cell_type": "code",
   "execution_count": 324,
   "metadata": {},
   "outputs": [],
   "source": [
    "knn_r_acc_Cheb.to_excel(\"diff_Cheb.xlsx\")"
   ]
  },
  {
   "cell_type": "markdown",
   "metadata": {
    "id": "7-MAbiNS_aCf"
   },
   "source": [
    "**By Elbow Method the better K is 15 according the Difference between Test score and Train score.\n",
    "Choose Manhattan, so it presents the minimun Difference**"
   ]
  },
  {
   "cell_type": "markdown",
   "metadata": {
    "id": "dwg-kWyNLRde"
   },
   "source": [
    "# Confusion matrix KNN Manhattan k = 15"
   ]
  },
  {
   "cell_type": "code",
   "execution_count": 483,
   "metadata": {
    "colab": {
     "base_uri": "https://localhost:8080/"
    },
    "id": "6WYJ3IcE-LIL",
    "outputId": "ab92f297-1d0f-416e-d2b8-7200576d86e5"
   },
   "outputs": [
    {
     "data": {
      "text/plain": [
       "KNeighborsClassifier(algorithm='auto', leaf_size=30, metric='manhattan',\n",
       "                     metric_params=None, n_jobs=None, n_neighbors=15, p=2,\n",
       "                     weights='uniform')"
      ]
     },
     "execution_count": 483,
     "metadata": {},
     "output_type": "execute_result"
    }
   ],
   "source": [
    "knn = KNeighborsClassifier(n_neighbors=15, metric='manhattan')\n",
    "knn.fit(X_trainScaled,y_train1Values)"
   ]
  },
  {
   "cell_type": "markdown",
   "metadata": {
    "id": "_0xP-ov4-cPb"
   },
   "source": [
    "**Prediction**"
   ]
  },
  {
   "cell_type": "code",
   "execution_count": 484,
   "metadata": {
    "id": "_D0Jp9fc-ZYL"
   },
   "outputs": [],
   "source": [
    "y_pred1=knn.predict(X_testScaled)"
   ]
  },
  {
   "cell_type": "markdown",
   "metadata": {},
   "source": [
    "Accuracy"
   ]
  },
  {
   "cell_type": "code",
   "execution_count": 330,
   "metadata": {},
   "outputs": [
    {
     "data": {
      "text/plain": [
       "0.9426827666105319"
      ]
     },
     "execution_count": 330,
     "metadata": {},
     "output_type": "execute_result"
    }
   ],
   "source": [
    "accuracy_score(y_test1Values, y_pred1)"
   ]
  },
  {
   "cell_type": "code",
   "execution_count": 331,
   "metadata": {
    "colab": {
     "base_uri": "https://localhost:8080/"
    },
    "id": "coBLHgCargGh",
    "outputId": "92b8a84e-478e-4aa6-da35-f3e977dfabab"
   },
   "outputs": [
    {
     "name": "stdout",
     "output_type": "stream",
     "text": [
      "[[37355  3623    32]\n",
      " [ 3554 62566  1093]\n",
      " [   62  1234 57935]]\n",
      "              precision    recall  f1-score   support\n",
      "\n",
      "           1       0.91      0.91      0.91     41010\n",
      "           2       0.93      0.93      0.93     67213\n",
      "           3       0.98      0.98      0.98     59231\n",
      "\n",
      "    accuracy                           0.94    167454\n",
      "   macro avg       0.94      0.94      0.94    167454\n",
      "weighted avg       0.94      0.94      0.94    167454\n",
      "\n"
     ]
    }
   ],
   "source": [
    "print(confusion_matrix(y_test1, y_pred1))\n",
    "print(classification_report(y_test1, y_pred1))"
   ]
  },
  {
   "cell_type": "markdown",
   "metadata": {},
   "source": [
    "# Beta Distribution with simple KNN "
   ]
  },
  {
   "cell_type": "code",
   "execution_count": 332,
   "metadata": {},
   "outputs": [],
   "source": [
    "list1 = y_pred1.tolist()"
   ]
  },
  {
   "cell_type": "code",
   "execution_count": 333,
   "metadata": {},
   "outputs": [
    {
     "name": "stderr",
     "output_type": "stream",
     "text": [
      "/opt/anaconda3/lib/python3.7/site-packages/ipykernel_launcher.py:1: SettingWithCopyWarning: \n",
      "A value is trying to be set on a copy of a slice from a DataFrame.\n",
      "Try using .loc[row_indexer,col_indexer] = value instead\n",
      "\n",
      "See the caveats in the documentation: http://pandas.pydata.org/pandas-docs/stable/indexing.html#indexing-view-versus-copy\n",
      "  \"\"\"Entry point for launching an IPython kernel.\n"
     ]
    }
   ],
   "source": [
    "X_test1['Prediction simple KNN']=list1"
   ]
  },
  {
   "cell_type": "code",
   "execution_count": 334,
   "metadata": {},
   "outputs": [
    {
     "data": {
      "text/html": [
       "<div>\n",
       "<style scoped>\n",
       "    .dataframe tbody tr th:only-of-type {\n",
       "        vertical-align: middle;\n",
       "    }\n",
       "\n",
       "    .dataframe tbody tr th {\n",
       "        vertical-align: top;\n",
       "    }\n",
       "\n",
       "    .dataframe thead th {\n",
       "        text-align: right;\n",
       "    }\n",
       "</style>\n",
       "<table border=\"1\" class=\"dataframe\">\n",
       "  <thead>\n",
       "    <tr style=\"text-align: right;\">\n",
       "      <th></th>\n",
       "      <th>XC</th>\n",
       "      <th>YC</th>\n",
       "      <th>ZC</th>\n",
       "      <th>NSAMP</th>\n",
       "      <th>PASS</th>\n",
       "      <th>DISTNEAR</th>\n",
       "      <th>ESTVAR</th>\n",
       "      <th>BE</th>\n",
       "      <th>Prediction simple KNN</th>\n",
       "    </tr>\n",
       "  </thead>\n",
       "  <tbody>\n",
       "    <tr>\n",
       "      <th>998952</th>\n",
       "      <td>129437.5</td>\n",
       "      <td>233153.65</td>\n",
       "      <td>3548.5</td>\n",
       "      <td>8.0</td>\n",
       "      <td>1.0</td>\n",
       "      <td>5.439274</td>\n",
       "      <td>0.122421</td>\n",
       "      <td>0.005227</td>\n",
       "      <td>1</td>\n",
       "    </tr>\n",
       "    <tr>\n",
       "      <th>530400</th>\n",
       "      <td>129178.5</td>\n",
       "      <td>232990.45</td>\n",
       "      <td>3337.5</td>\n",
       "      <td>9.0</td>\n",
       "      <td>3.0</td>\n",
       "      <td>16.625004</td>\n",
       "      <td>0.194217</td>\n",
       "      <td>0.004681</td>\n",
       "      <td>2</td>\n",
       "    </tr>\n",
       "    <tr>\n",
       "      <th>990056</th>\n",
       "      <td>129421.5</td>\n",
       "      <td>233198.65</td>\n",
       "      <td>2704.5</td>\n",
       "      <td>7.0</td>\n",
       "      <td>3.0</td>\n",
       "      <td>46.457063</td>\n",
       "      <td>0.316228</td>\n",
       "      <td>0.035884</td>\n",
       "      <td>2</td>\n",
       "    </tr>\n",
       "    <tr>\n",
       "      <th>812023</th>\n",
       "      <td>129327.5</td>\n",
       "      <td>233150.80</td>\n",
       "      <td>3081.5</td>\n",
       "      <td>9.0</td>\n",
       "      <td>3.0</td>\n",
       "      <td>23.531518</td>\n",
       "      <td>0.139876</td>\n",
       "      <td>0.007217</td>\n",
       "      <td>2</td>\n",
       "    </tr>\n",
       "    <tr>\n",
       "      <th>523103</th>\n",
       "      <td>129171.5</td>\n",
       "      <td>232959.35</td>\n",
       "      <td>2538.5</td>\n",
       "      <td>8.0</td>\n",
       "      <td>5.0</td>\n",
       "      <td>83.120639</td>\n",
       "      <td>39.317823</td>\n",
       "      <td>4.718547</td>\n",
       "      <td>3</td>\n",
       "    </tr>\n",
       "  </tbody>\n",
       "</table>\n",
       "</div>"
      ],
      "text/plain": [
       "              XC         YC      ZC  NSAMP  PASS   DISTNEAR     ESTVAR  \\\n",
       "998952  129437.5  233153.65  3548.5    8.0   1.0   5.439274   0.122421   \n",
       "530400  129178.5  232990.45  3337.5    9.0   3.0  16.625004   0.194217   \n",
       "990056  129421.5  233198.65  2704.5    7.0   3.0  46.457063   0.316228   \n",
       "812023  129327.5  233150.80  3081.5    9.0   3.0  23.531518   0.139876   \n",
       "523103  129171.5  232959.35  2538.5    8.0   5.0  83.120639  39.317823   \n",
       "\n",
       "              BE  Prediction simple KNN  \n",
       "998952  0.005227                      1  \n",
       "530400  0.004681                      2  \n",
       "990056  0.035884                      2  \n",
       "812023  0.007217                      2  \n",
       "523103  4.718547                      3  "
      ]
     },
     "execution_count": 334,
     "metadata": {},
     "output_type": "execute_result"
    }
   ],
   "source": [
    "X_test1.head()"
   ]
  },
  {
   "cell_type": "code",
   "execution_count": 335,
   "metadata": {},
   "outputs": [
    {
     "data": {
      "image/png": "[encoded data removed]",
      "text/plain": [
       "<Figure size 396x576 with 1 Axes>"
      ]
     },
     "metadata": {
      "needs_background": "light"
     },
     "output_type": "display_data"
    }
   ],
   "source": [
    "# Visualización de la Beta de la clasificación del KNN común\n",
    "#====================================================================================\n",
    "\n",
    "fig, ax = plt.subplots(figsize = (5.5, 8))\n",
    "colors = {1:'red', 2:'green', 3:'blue'}\n",
    "grouped = X_test1.groupby('Prediction simple KNN')\n",
    "for key, group in grouped:\n",
    "    group.plot(ax=ax, kind='scatter', x='XC', y='ZC', label=key, color=colors[key])\n",
    "plt.suptitle(\"Distribución de Clasificación de Bloques \\n Knn con Manhattan y K = 15\", fontsize=16)\n",
    "plt.xlabel('XC', fontsize=14)\n",
    "plt.ylabel('ZC', fontsize=14)\n",
    "#save_results_to = 'E:/Data2/3.Projects/150_ML_For_Resource_Classification/Images/'\n",
    "#plt.savefig(save_results_to + 'veta100_a.png', dpi = 300)\n",
    "plt.show()"
   ]
  },
  {
   "cell_type": "markdown",
   "metadata": {},
   "source": [
    "Plot without Title"
   ]
  },
  {
   "cell_type": "code",
   "execution_count": 336,
   "metadata": {},
   "outputs": [
    {
     "data": {
      "image/png": "[encoded data removed]",
      "text/plain": [
       "<Figure size 396x576 with 1 Axes>"
      ]
     },
     "metadata": {
      "needs_background": "light"
     },
     "output_type": "display_data"
    }
   ],
   "source": [
    "fig, ax = plt.subplots(figsize = (5.5, 8))\n",
    "colors = {1:'red', 2:'green', 3:'blue'}\n",
    "grouped = X_test1.groupby('Prediction simple KNN')\n",
    "for key, group in grouped:\n",
    "    group.plot(ax=ax, kind='scatter', x='XC', y='ZC', label=key, color=colors[key])\n",
    "\n",
    "#save_results_to = 'E:/Data2/3.Projects/150_ML_For_Resource_Classification/Images/'\n",
    "#plt.savefig(save_results_to + 'veta100_a.png', dpi = 300)\n",
    "plt.show()"
   ]
  },
  {
   "cell_type": "markdown",
   "metadata": {
    "id": "ExFPg5k6_UJS"
   },
   "source": [
    "# Croos Valid"
   ]
  },
  {
   "cell_type": "code",
   "execution_count": null,
   "metadata": {
    "id": "GF4ytqiM_WsB"
   },
   "outputs": [],
   "source": [
    "from sklearn.model_selection import cross_validate\n",
    "from sklearn.model_selection import cross_val_score"
   ]
  },
  {
   "cell_type": "code",
   "execution_count": null,
   "metadata": {
    "colab": {
     "base_uri": "https://localhost:8080/"
    },
    "id": "iQyyhEYX_Vwm",
    "outputId": "b56099ae-c20d-44d4-b76c-bd80d442f0c9"
   },
   "outputs": [
    {
     "data": {
      "text/plain": [
       "array([0.85604883, 0.8685854 , 0.90047237, 0.86188388, 0.85073092])"
      ]
     },
     "execution_count": 13,
     "metadata": {},
     "output_type": "execute_result"
    }
   ],
   "source": [
    "#index += [\"K-NN\"]\n",
    "knn = KNeighborsClassifier(n_neighbors=15, metric='manhattan')\n",
    "scores = cross_val_score(knn, (X.iloc[:,3:8]).values, Y.values, cv=5)\n",
    "scores"
   ]
  },
  {
   "cell_type": "markdown",
   "metadata": {
    "id": "DLAmygp3QJYl"
   },
   "source": [
    "# Decision Tree"
   ]
  },
  {
   "cell_type": "code",
   "execution_count": 407,
   "metadata": {
    "id": "jpEMPL2VQulF"
   },
   "outputs": [],
   "source": [
    "from sklearn.tree import DecisionTreeClassifier\n",
    "from sklearn import tree"
   ]
  },
  {
   "cell_type": "code",
   "execution_count": 414,
   "metadata": {
    "colab": {
     "base_uri": "https://localhost:8080/"
    },
    "id": "JEBE9IuRQxOk",
    "outputId": "f7920a93-fdf9-42e3-b593-45efa867f821"
   },
   "outputs": [
    {
     "data": {
      "text/plain": [
       "DecisionTreeClassifier(class_weight=None, criterion='gini', max_depth=None,\n",
       "                       max_features=None, max_leaf_nodes=3,\n",
       "                       min_impurity_decrease=0.0, min_impurity_split=None,\n",
       "                       min_samples_leaf=1, min_samples_split=2,\n",
       "                       min_weight_fraction_leaf=0.0, presort=False,\n",
       "                       random_state=0, splitter='best')"
      ]
     },
     "execution_count": 414,
     "metadata": {},
     "output_type": "execute_result"
    }
   ],
   "source": [
    "clf = DecisionTreeClassifier(max_leaf_nodes=3, random_state=0)\n",
    "clf.fit(X_trainScaled, y_train1Values)"
   ]
  },
  {
   "cell_type": "code",
   "execution_count": 413,
   "metadata": {
    "colab": {
     "base_uri": "https://localhost:8080/",
     "height": 248
    },
    "id": "019SK_62SoF2",
    "outputId": "ccff8c68-9303-4f8b-bb88-f0a730a0276e"
   },
   "outputs": [
    {
     "data": {
      "image/png": "[encoded data removed]",
      "text/plain": [
       "<Figure size 432x288 with 1 Axes>"
      ]
     },
     "metadata": {
      "needs_background": "light"
     },
     "output_type": "display_data"
    }
   ],
   "source": [
    "tree.plot_tree(clf)\n",
    "plt.show()"
   ]
  },
  {
   "cell_type": "markdown",
   "metadata": {
    "id": "f4rWT8pdPdeL"
   },
   "source": [
    "# Split in two New DataSets"
   ]
  },
  {
   "cell_type": "code",
   "execution_count": 497,
   "metadata": {
    "id": "LWp2C44zV7di"
   },
   "outputs": [],
   "source": [
    "X_train1Df=pd.DataFrame(X_trainScaled)\n",
    "X_train1Df['Class']=y_train1Values\n",
    "\n",
    "X_Test1Df=pd.DataFrame(X_testScaled)"
   ]
  },
  {
   "cell_type": "code",
   "execution_count": 498,
   "metadata": {},
   "outputs": [
    {
     "data": {
      "text/html": [
       "<div>\n",
       "<style scoped>\n",
       "    .dataframe tbody tr th:only-of-type {\n",
       "        vertical-align: middle;\n",
       "    }\n",
       "\n",
       "    .dataframe tbody tr th {\n",
       "        vertical-align: top;\n",
       "    }\n",
       "\n",
       "    .dataframe thead th {\n",
       "        text-align: right;\n",
       "    }\n",
       "</style>\n",
       "<table border=\"1\" class=\"dataframe\">\n",
       "  <thead>\n",
       "    <tr style=\"text-align: right;\">\n",
       "      <th></th>\n",
       "      <th>0</th>\n",
       "      <th>1</th>\n",
       "      <th>2</th>\n",
       "      <th>3</th>\n",
       "      <th>4</th>\n",
       "      <th>Class</th>\n",
       "    </tr>\n",
       "  </thead>\n",
       "  <tbody>\n",
       "    <tr>\n",
       "      <th>0</th>\n",
       "      <td>-0.149465</td>\n",
       "      <td>0.989976</td>\n",
       "      <td>0.385890</td>\n",
       "      <td>0.398037</td>\n",
       "      <td>0.269060</td>\n",
       "      <td>3</td>\n",
       "    </tr>\n",
       "    <tr>\n",
       "      <th>1</th>\n",
       "      <td>-0.149465</td>\n",
       "      <td>0.989976</td>\n",
       "      <td>-0.469955</td>\n",
       "      <td>1.756139</td>\n",
       "      <td>0.979677</td>\n",
       "      <td>2</td>\n",
       "    </tr>\n",
       "    <tr>\n",
       "      <th>2</th>\n",
       "      <td>1.524189</td>\n",
       "      <td>-0.413566</td>\n",
       "      <td>0.233129</td>\n",
       "      <td>-0.341536</td>\n",
       "      <td>-0.212172</td>\n",
       "      <td>3</td>\n",
       "    </tr>\n",
       "    <tr>\n",
       "      <th>3</th>\n",
       "      <td>-0.986293</td>\n",
       "      <td>-0.413566</td>\n",
       "      <td>-0.770117</td>\n",
       "      <td>-0.341332</td>\n",
       "      <td>-0.211478</td>\n",
       "      <td>2</td>\n",
       "    </tr>\n",
       "    <tr>\n",
       "      <th>4</th>\n",
       "      <td>-0.986293</td>\n",
       "      <td>-0.413566</td>\n",
       "      <td>-0.448850</td>\n",
       "      <td>-0.341616</td>\n",
       "      <td>-0.211710</td>\n",
       "      <td>2</td>\n",
       "    </tr>\n",
       "  </tbody>\n",
       "</table>\n",
       "</div>"
      ],
      "text/plain": [
       "          0         1         2         3         4  Class\n",
       "0 -0.149465  0.989976  0.385890  0.398037  0.269060      3\n",
       "1 -0.149465  0.989976 -0.469955  1.756139  0.979677      2\n",
       "2  1.524189 -0.413566  0.233129 -0.341536 -0.212172      3\n",
       "3 -0.986293 -0.413566 -0.770117 -0.341332 -0.211478      2\n",
       "4 -0.986293 -0.413566 -0.448850 -0.341616 -0.211710      2"
      ]
     },
     "execution_count": 498,
     "metadata": {},
     "output_type": "execute_result"
    }
   ],
   "source": [
    "X_train1Df.head()"
   ]
  },
  {
   "cell_type": "markdown",
   "metadata": {
    "id": "TvJxj83OPg-h"
   },
   "source": [
    "**Df Left N1**"
   ]
  },
  {
   "cell_type": "code",
   "execution_count": 499,
   "metadata": {
    "id": "2XoByN4-PmUU"
   },
   "outputs": [],
   "source": [
    "DfLeftN1=X_train1Df[X_train1Df.iloc[:,2]<=0.333]"
   ]
  },
  {
   "cell_type": "markdown",
   "metadata": {
    "id": "zVqVaHA2QdYB"
   },
   "source": [
    "**Df Right N1**"
   ]
  },
  {
   "cell_type": "code",
   "execution_count": 500,
   "metadata": {
    "id": "54IvuaLbQQ5y"
   },
   "outputs": [],
   "source": [
    "DfRightN1=X_train1Df[X_train1Df.iloc[:,2]>0.333]"
   ]
  },
  {
   "cell_type": "markdown",
   "metadata": {
    "id": "-IZWCTNZNnzO"
   },
   "source": [
    "**Df Left N2**"
   ]
  },
  {
   "cell_type": "code",
   "execution_count": 501,
   "metadata": {
    "id": "f0typ-1oN0_s"
   },
   "outputs": [],
   "source": [
    "DfLeftN2=DfLeftN1[DfLeftN1.iloc[:,1]<=-0.765]"
   ]
  },
  {
   "cell_type": "markdown",
   "metadata": {
    "id": "l6SYRhFhNuAx"
   },
   "source": [
    "**Df Right N2**"
   ]
  },
  {
   "cell_type": "code",
   "execution_count": 502,
   "metadata": {
    "id": "_c0fvUyhOozZ"
   },
   "outputs": [],
   "source": [
    "DfRightN2=DfLeftN1[DfLeftN1.iloc[:,1]>-0.765]"
   ]
  },
  {
   "cell_type": "markdown",
   "metadata": {
    "id": "zDAaLw74Fvq9"
   },
   "source": [
    "**Train Right N1**"
   ]
  },
  {
   "cell_type": "code",
   "execution_count": 503,
   "metadata": {
    "colab": {
     "base_uri": "https://localhost:8080/"
    },
    "id": "FTVW6xbk3eZ3",
    "outputId": "d76c58b1-a4d9-4f35-f136-7110e374772f"
   },
   "outputs": [
    {
     "data": {
      "text/plain": [
       "KNeighborsClassifier(algorithm='auto', leaf_size=30, metric='manhattan',\n",
       "                     metric_params=None, n_jobs=None, n_neighbors=15, p=2,\n",
       "                     weights='uniform')"
      ]
     },
     "execution_count": 503,
     "metadata": {},
     "output_type": "execute_result"
    }
   ],
   "source": [
    "trainRight = KNeighborsClassifier(n_neighbors=15, metric='manhattan')\n",
    "trainRight.fit(DfRightN1.iloc[:, :-1].values, DfRightN1.iloc[:, 5].values)"
   ]
  },
  {
   "cell_type": "markdown",
   "metadata": {
    "id": "VQLZSxE-FrI4"
   },
   "source": [
    "**Train Left N2**"
   ]
  },
  {
   "cell_type": "code",
   "execution_count": 504,
   "metadata": {
    "colab": {
     "base_uri": "https://localhost:8080/"
    },
    "id": "fdtSK45dFzit",
    "outputId": "cec17c7b-1663-4d05-e197-69736f1a6104"
   },
   "outputs": [
    {
     "data": {
      "text/plain": [
       "KNeighborsClassifier(algorithm='auto', leaf_size=30, metric='manhattan',\n",
       "                     metric_params=None, n_jobs=None, n_neighbors=15, p=2,\n",
       "                     weights='uniform')"
      ]
     },
     "execution_count": 504,
     "metadata": {},
     "output_type": "execute_result"
    }
   ],
   "source": [
    "trainLeftN2 = KNeighborsClassifier(n_neighbors=15, metric='manhattan')\n",
    "trainLeftN2.fit(DfLeftN2.iloc[:, :-1].values, DfLeftN2.iloc[:, 5].values)"
   ]
  },
  {
   "cell_type": "markdown",
   "metadata": {
    "id": "nZULORyoPoUs"
   },
   "source": [
    "**Train Right N2**"
   ]
  },
  {
   "cell_type": "code",
   "execution_count": 505,
   "metadata": {
    "colab": {
     "base_uri": "https://localhost:8080/"
    },
    "id": "KfVygOCaQOT8",
    "outputId": "53f6d254-0d4f-4ee8-e5a8-426a5bbfd2fb"
   },
   "outputs": [
    {
     "data": {
      "text/plain": [
       "KNeighborsClassifier(algorithm='auto', leaf_size=30, metric='manhattan',\n",
       "                     metric_params=None, n_jobs=None, n_neighbors=15, p=2,\n",
       "                     weights='uniform')"
      ]
     },
     "execution_count": 505,
     "metadata": {},
     "output_type": "execute_result"
    }
   ],
   "source": [
    "trainRightN2 = KNeighborsClassifier(n_neighbors=15, metric='manhattan')\n",
    "trainRightN2.fit(DfRightN2.iloc[:, :-1].values, DfRightN2.iloc[:, 5].values)"
   ]
  },
  {
   "cell_type": "markdown",
   "metadata": {
    "id": "98bXv2v1Q1AE"
   },
   "source": [
    "# *Assemble Decision Tree and Kn, K = 9 and Metric Manhattan*"
   ]
  },
  {
   "cell_type": "code",
   "execution_count": 481,
   "metadata": {
    "id": "e2t4q9a7Q0Kr"
   },
   "outputs": [],
   "source": [
    "y_predComb=[]\n",
    "for i in range (0,len(X_test1),1):\n",
    "  if X_Test1Df.iloc[i,2]>0.333:\n",
    "    model=trainRight\n",
    "  else:\n",
    "    if X_Test1Df.iloc[i,1]<=-0.765:\n",
    "      model=trainLeftN2\n",
    "    else:\n",
    "      model=trainRightN2\n",
    "\n",
    "\n",
    "  y_predComb.append(model.predict(X_Test1Df.iloc[[i]].values))"
   ]
  },
  {
   "cell_type": "code",
   "execution_count": 482,
   "metadata": {
    "id": "Qtg7XT8L6EdS"
   },
   "outputs": [],
   "source": [
    "y_predCombDf=pd.DataFrame(y_predComb)"
   ]
  },
  {
   "cell_type": "markdown",
   "metadata": {
    "id": "LP2CQN4wXFrI"
   },
   "source": [
    "# Confusion matrixs: DT-Knn ; Knn with Manhattan"
   ]
  },
  {
   "cell_type": "code",
   "execution_count": 359,
   "metadata": {
    "colab": {
     "base_uri": "https://localhost:8080/",
     "height": 244
    },
    "id": "zreyRdnfInzR",
    "outputId": "486f0d0d-52a7-4a77-8a9b-7a23819d0c13"
   },
   "outputs": [
    {
     "name": "stdout",
     "output_type": "stream",
     "text": [
      "Matrix Confusion DT-KNN \n",
      " [[37355  3623    32]\n",
      " [ 3554 62536  1123]\n",
      " [   62  1250 57919]]\n",
      "              precision    recall  f1-score   support\n",
      "\n",
      "           1    0.91174   0.91088   0.91131     41010\n",
      "           2    0.92771   0.93042   0.92906     67213\n",
      "           3    0.98045   0.97785   0.97915     59231\n",
      "\n",
      "    accuracy                        0.94241    167454\n",
      "   macro avg    0.93997   0.93971   0.93984    167454\n",
      "weighted avg    0.94245   0.94241   0.94243    167454\n",
      " \n",
      "\n",
      "[[37355  3623    32]\n",
      " [ 3554 62566  1093]\n",
      " [   62  1234 57935]]\n",
      "Matrix Confusion simple KNN \n",
      "               precision    recall  f1-score   support\n",
      "\n",
      "           1    0.91174   0.91088   0.91131     41010\n",
      "           2    0.92796   0.93086   0.92941     67213\n",
      "           3    0.98095   0.97812   0.97953     59231\n",
      "\n",
      "    accuracy                        0.94268    167454\n",
      "   macro avg    0.94022   0.93995   0.94008    167454\n",
      "weighted avg    0.94273   0.94268   0.94271    167454\n",
      "\n"
     ]
    }
   ],
   "source": [
    "print(\"Matrix Confusion DT-KNN \\n\", (confusion_matrix(y_test1Values, y_predCombDf.iloc[:,:].values)))\n",
    "print(classification_report(y_test1Values, y_predCombDf.iloc[:,:].values,digits=5),\"\\n\")\n",
    "\n",
    "print(confusion_matrix(y_test1Values, y_pred1))\n",
    "print(\"Matrix Confusion simple KNN \\n\", (classification_report(y_test1Values, y_pred1,digits=5)))"
   ]
  },
  {
   "cell_type": "markdown",
   "metadata": {},
   "source": [
    "Save Confusion matrix DT-Knn and Knn"
   ]
  },
  {
   "cell_type": "code",
   "execution_count": 350,
   "metadata": {},
   "outputs": [],
   "source": [
    "(pd.DataFrame(confusion_matrix(y_test1Values, y_predCombDf.iloc[:,:].values))).to_excel(\"Matriz_Con_Comb.xlsx\")"
   ]
  },
  {
   "cell_type": "code",
   "execution_count": 351,
   "metadata": {},
   "outputs": [],
   "source": [
    "(pd.DataFrame(confusion_matrix(y_test1Values, y_pred1))).to_excel(\"Matriz_Con_KNN.xlsx\")"
   ]
  },
  {
   "cell_type": "markdown",
   "metadata": {},
   "source": [
    "# Beta Distr DT and KNN"
   ]
  },
  {
   "cell_type": "code",
   "execution_count": 389,
   "metadata": {},
   "outputs": [],
   "source": [
    "list2 =( y_predCombDf.iloc[:,0].values).tolist()"
   ]
  },
  {
   "cell_type": "code",
   "execution_count": 390,
   "metadata": {},
   "outputs": [
    {
     "name": "stderr",
     "output_type": "stream",
     "text": [
      "/opt/anaconda3/lib/python3.7/site-packages/ipykernel_launcher.py:1: SettingWithCopyWarning: \n",
      "A value is trying to be set on a copy of a slice from a DataFrame.\n",
      "Try using .loc[row_indexer,col_indexer] = value instead\n",
      "\n",
      "See the caveats in the documentation: http://pandas.pydata.org/pandas-docs/stable/indexing.html#indexing-view-versus-copy\n",
      "  \"\"\"Entry point for launching an IPython kernel.\n"
     ]
    }
   ],
   "source": [
    "X_test1['Prediction DT and KNN']=list2"
   ]
  },
  {
   "cell_type": "code",
   "execution_count": 280,
   "metadata": {},
   "outputs": [
    {
     "data": {
      "text/html": [
       "<div>\n",
       "<style scoped>\n",
       "    .dataframe tbody tr th:only-of-type {\n",
       "        vertical-align: middle;\n",
       "    }\n",
       "\n",
       "    .dataframe tbody tr th {\n",
       "        vertical-align: top;\n",
       "    }\n",
       "\n",
       "    .dataframe thead th {\n",
       "        text-align: right;\n",
       "    }\n",
       "</style>\n",
       "<table border=\"1\" class=\"dataframe\">\n",
       "  <thead>\n",
       "    <tr style=\"text-align: right;\">\n",
       "      <th></th>\n",
       "      <th>XC</th>\n",
       "      <th>YC</th>\n",
       "      <th>ZC</th>\n",
       "      <th>NSAMP</th>\n",
       "      <th>PASS</th>\n",
       "      <th>DISTNEAR</th>\n",
       "      <th>ESTVAR</th>\n",
       "      <th>BE</th>\n",
       "      <th>Prediction simple KNN</th>\n",
       "      <th>Prediction DT and KNN</th>\n",
       "    </tr>\n",
       "  </thead>\n",
       "  <tbody>\n",
       "    <tr>\n",
       "      <th>1157107</th>\n",
       "      <td>129525.5</td>\n",
       "      <td>233283.05</td>\n",
       "      <td>2750.5</td>\n",
       "      <td>8.0</td>\n",
       "      <td>5.0</td>\n",
       "      <td>94.189694</td>\n",
       "      <td>27.541485</td>\n",
       "      <td>4.373223</td>\n",
       "      <td>3</td>\n",
       "      <td>3</td>\n",
       "    </tr>\n",
       "    <tr>\n",
       "      <th>128227</th>\n",
       "      <td>128940.5</td>\n",
       "      <td>232768.00</td>\n",
       "      <td>3711.5</td>\n",
       "      <td>8.0</td>\n",
       "      <td>5.0</td>\n",
       "      <td>150.411158</td>\n",
       "      <td>5.267889</td>\n",
       "      <td>3.849739</td>\n",
       "      <td>3</td>\n",
       "      <td>3</td>\n",
       "    </tr>\n",
       "    <tr>\n",
       "      <th>379605</th>\n",
       "      <td>129099.5</td>\n",
       "      <td>232930.95</td>\n",
       "      <td>3004.5</td>\n",
       "      <td>8.0</td>\n",
       "      <td>5.0</td>\n",
       "      <td>71.594121</td>\n",
       "      <td>293.068241</td>\n",
       "      <td>10.845566</td>\n",
       "      <td>2</td>\n",
       "      <td>2</td>\n",
       "    </tr>\n",
       "    <tr>\n",
       "      <th>266514</th>\n",
       "      <td>129032.5</td>\n",
       "      <td>232864.95</td>\n",
       "      <td>2541.5</td>\n",
       "      <td>8.0</td>\n",
       "      <td>5.0</td>\n",
       "      <td>130.486286</td>\n",
       "      <td>39.780765</td>\n",
       "      <td>4.993167</td>\n",
       "      <td>3</td>\n",
       "      <td>3</td>\n",
       "    </tr>\n",
       "    <tr>\n",
       "      <th>223039</th>\n",
       "      <td>129001.5</td>\n",
       "      <td>232861.65</td>\n",
       "      <td>2221.5</td>\n",
       "      <td>3.0</td>\n",
       "      <td>5.0</td>\n",
       "      <td>104.162723</td>\n",
       "      <td>1.053215</td>\n",
       "      <td>0.608465</td>\n",
       "      <td>3</td>\n",
       "      <td>3</td>\n",
       "    </tr>\n",
       "  </tbody>\n",
       "</table>\n",
       "</div>"
      ],
      "text/plain": [
       "               XC         YC      ZC  NSAMP  PASS    DISTNEAR      ESTVAR  \\\n",
       "1157107  129525.5  233283.05  2750.5    8.0   5.0   94.189694   27.541485   \n",
       "128227   128940.5  232768.00  3711.5    8.0   5.0  150.411158    5.267889   \n",
       "379605   129099.5  232930.95  3004.5    8.0   5.0   71.594121  293.068241   \n",
       "266514   129032.5  232864.95  2541.5    8.0   5.0  130.486286   39.780765   \n",
       "223039   129001.5  232861.65  2221.5    3.0   5.0  104.162723    1.053215   \n",
       "\n",
       "                BE  Prediction simple KNN  Prediction DT and KNN  \n",
       "1157107   4.373223                      3                      3  \n",
       "128227    3.849739                      3                      3  \n",
       "379605   10.845566                      2                      2  \n",
       "266514    4.993167                      3                      3  \n",
       "223039    0.608465                      3                      3  "
      ]
     },
     "execution_count": 280,
     "metadata": {},
     "output_type": "execute_result"
    }
   ],
   "source": [
    "X_test1.head()"
   ]
  },
  {
   "cell_type": "code",
   "execution_count": 281,
   "metadata": {},
   "outputs": [
    {
     "data": {
      "image/png": "[encoded data removed]",
      "text/plain": [
       "<Figure size 396x576 with 1 Axes>"
      ]
     },
     "metadata": {
      "needs_background": "light"
     },
     "output_type": "display_data"
    }
   ],
   "source": [
    "# Visualización de la Beta de la clasificación del KNN común\n",
    "#====================================================================================\n",
    "\n",
    "fig, ax = plt.subplots(figsize = (5.5, 8))\n",
    "colors = {1:'red', 2:'green', 3:'blue'}\n",
    "grouped = X_test1.groupby('Prediction DT and KNN')\n",
    "for key, group in grouped:\n",
    "    group.plot(ax=ax, kind='scatter', x='XC', y='ZC', label=key, color=colors[key])\n",
    "plt.suptitle(\"Distribución de Clasificación de Bloques \\n Árbol de Decisión - Knn\", fontsize=16)\n",
    "plt.xlabel('XC', fontsize=14)\n",
    "plt.ylabel('ZC', fontsize=14)\n",
    "#save_results_to = 'E:/Data2/3.Projects/150_ML_For_Resource_Classification/Images/'\n",
    "#plt.savefig(save_results_to + 'veta100_a.png', dpi = 300)\n",
    "plt.show()"
   ]
  },
  {
   "cell_type": "code",
   "execution_count": null,
   "metadata": {},
   "outputs": [],
   "source": []
  },
  {
   "cell_type": "code",
   "execution_count": 391,
   "metadata": {},
   "outputs": [
    {
     "data": {
      "image/png": "[encoded data removed]",
      "text/plain": [
       "<Figure size 396x576 with 1 Axes>"
      ]
     },
     "metadata": {
      "needs_background": "light"
     },
     "output_type": "display_data"
    }
   ],
   "source": [
    "fig, ax = plt.subplots(figsize = (5.5, 8))\n",
    "colors = {1:'red', 2:'green', 3:'blue'}\n",
    "grouped = X_test1.groupby('Prediction DT and KNN')\n",
    "for key, group in grouped:\n",
    "    group.plot(ax=ax, kind='scatter', x='XC', y='ZC', label=key, color=colors[key])\n",
    "\n",
    "plt.xlabel('XC', fontsize=14)\n",
    "plt.ylabel('ZC', fontsize=14)\n",
    "#save_results_to = 'E:/Data2/3.Projects/150_ML_For_Resource_Classification/Images/'\n",
    "#plt.savefig(save_results_to + 'veta100_a.png', dpi = 300)\n",
    "plt.show()"
   ]
  },
  {
   "cell_type": "markdown",
   "metadata": {},
   "source": [
    "# Normas para la diferencia de matrices de Confusion entre KNN simple y DT-KNN"
   ]
  },
  {
   "cell_type": "markdown",
   "metadata": {},
   "source": [
    "Resta"
   ]
  },
  {
   "cell_type": "code",
   "execution_count": 485,
   "metadata": {},
   "outputs": [],
   "source": [
    "resta=confusion_matrix(y_test1Values, y_pred1)-confusion_matrix(y_test1Values, y_predCombDf.iloc[:,:].values)"
   ]
  },
  {
   "cell_type": "code",
   "execution_count": 486,
   "metadata": {},
   "outputs": [],
   "source": [
    "from numpy import linalg"
   ]
  },
  {
   "cell_type": "markdown",
   "metadata": {},
   "source": [
    "Normas"
   ]
  },
  {
   "cell_type": "code",
   "execution_count": 487,
   "metadata": {},
   "outputs": [
    {
     "name": "stdout",
     "output_type": "stream",
     "text": [
      "Frobenius \n",
      " 40.8166632639171\n",
      "1 \n",
      " 35.0\n",
      "2 \n",
      " 40.8166632639171\n",
      "Infinito \n",
      " 56.0\n"
     ]
    }
   ],
   "source": [
    "print(\"Frobenius \\n\",linalg.norm(resta,ord='fro'))\n",
    "print(\"1 \\n\",linalg.norm(resta,ord=1))\n",
    "print(\"2 \\n\",linalg.norm(resta,ord=2))\n",
    "print(\"Infinito \\n\",linalg.norm(resta,ord=np.inf))"
   ]
  },
  {
   "cell_type": "code",
   "execution_count": 398,
   "metadata": {},
   "outputs": [
    {
     "data": {
      "text/plain": [
       "'0.21.2'"
      ]
     },
     "execution_count": 398,
     "metadata": {},
     "output_type": "execute_result"
    }
   ],
   "source": [
    "sklearn.__version__"
   ]
  },
  {
   "cell_type": "markdown",
   "metadata": {},
   "source": [
    "# Test del modelo combinado con el 30% final"
   ]
  },
  {
   "cell_type": "code",
   "execution_count": 506,
   "metadata": {},
   "outputs": [],
   "source": [
    "X_Test30Df=pd.DataFrame(X_test30_Scaled)"
   ]
  },
  {
   "cell_type": "code",
   "execution_count": 507,
   "metadata": {},
   "outputs": [],
   "source": [
    "y_predComb=[]\n",
    "for i in range (0,len(X_test),1):\n",
    "  if X_Test30Df.iloc[i,2]>0.333:\n",
    "    model=trainRight\n",
    "  else:\n",
    "    if X_Test30Df.iloc[i,1]<=-0.765:\n",
    "      model=trainLeftN2\n",
    "    else:\n",
    "      model=trainRightN2\n",
    "\n",
    "\n",
    "  y_predComb.append(model.predict(X_Test30Df.iloc[[i]].values))"
   ]
  },
  {
   "cell_type": "code",
   "execution_count": 508,
   "metadata": {},
   "outputs": [],
   "source": [
    "y_pred_30_CombDf=pd.DataFrame(y_predComb)"
   ]
  },
  {
   "cell_type": "markdown",
   "metadata": {},
   "source": [
    "## Confusion Matrix"
   ]
  },
  {
   "cell_type": "code",
   "execution_count": 476,
   "metadata": {},
   "outputs": [
    {
     "name": "stdout",
     "output_type": "stream",
     "text": [
      "Matrix Confusion DT-KNN \n",
      " [[ 77153  10614     55]\n",
      " [  6902 134854   2437]\n",
      " [    87   3647 123081]]\n",
      "              precision    recall  f1-score   support\n",
      "\n",
      "           1    0.91694   0.87852   0.89732     87822\n",
      "           2    0.90436   0.93523   0.91954    144193\n",
      "           3    0.98015   0.97056   0.97533    126815\n",
      "\n",
      "    accuracy                        0.93383    358830\n",
      "   macro avg    0.93382   0.92810   0.93073    358830\n",
      "weighted avg    0.93423   0.93383   0.93382    358830\n",
      " \n",
      "\n"
     ]
    }
   ],
   "source": [
    "print(\"Matrix Confusion DT-KNN \\n\", (confusion_matrix(y_testValues, y_pred_30_CombDf.iloc[:,:].values)))\n",
    "print(classification_report(y_testValues, y_pred_30_CombDf.iloc[:,:].values,digits=5),\"\\n\")"
   ]
  },
  {
   "cell_type": "markdown",
   "metadata": {},
   "source": [
    "# Veta Distribution"
   ]
  },
  {
   "cell_type": "code",
   "execution_count": 509,
   "metadata": {},
   "outputs": [],
   "source": [
    "listFinal =(y_pred_30_CombDf.iloc[:,0].values).tolist()"
   ]
  },
  {
   "cell_type": "code",
   "execution_count": 510,
   "metadata": {},
   "outputs": [
    {
     "name": "stderr",
     "output_type": "stream",
     "text": [
      "/opt/anaconda3/lib/python3.7/site-packages/ipykernel_launcher.py:1: SettingWithCopyWarning: \n",
      "A value is trying to be set on a copy of a slice from a DataFrame.\n",
      "Try using .loc[row_indexer,col_indexer] = value instead\n",
      "\n",
      "See the caveats in the documentation: http://pandas.pydata.org/pandas-docs/stable/indexing.html#indexing-view-versus-copy\n",
      "  \"\"\"Entry point for launching an IPython kernel.\n"
     ]
    }
   ],
   "source": [
    "X_test['Prediction 30% DT and KNN']=listFinal"
   ]
  },
  {
   "cell_type": "code",
   "execution_count": 479,
   "metadata": {},
   "outputs": [
    {
     "data": {
      "text/html": [
       "<div>\n",
       "<style scoped>\n",
       "    .dataframe tbody tr th:only-of-type {\n",
       "        vertical-align: middle;\n",
       "    }\n",
       "\n",
       "    .dataframe tbody tr th {\n",
       "        vertical-align: top;\n",
       "    }\n",
       "\n",
       "    .dataframe thead th {\n",
       "        text-align: right;\n",
       "    }\n",
       "</style>\n",
       "<table border=\"1\" class=\"dataframe\">\n",
       "  <thead>\n",
       "    <tr style=\"text-align: right;\">\n",
       "      <th></th>\n",
       "      <th>XC</th>\n",
       "      <th>YC</th>\n",
       "      <th>ZC</th>\n",
       "      <th>NSAMP</th>\n",
       "      <th>PASS</th>\n",
       "      <th>DISTNEAR</th>\n",
       "      <th>ESTVAR</th>\n",
       "      <th>BE</th>\n",
       "      <th>Prediction 30% DT and KNN</th>\n",
       "    </tr>\n",
       "  </thead>\n",
       "  <tbody>\n",
       "    <tr>\n",
       "      <th>8885</th>\n",
       "      <td>128744.5</td>\n",
       "      <td>232538.95</td>\n",
       "      <td>3088.5</td>\n",
       "      <td>8.0</td>\n",
       "      <td>5.0</td>\n",
       "      <td>89.329551</td>\n",
       "      <td>133.957553</td>\n",
       "      <td>8.297304</td>\n",
       "      <td>3</td>\n",
       "    </tr>\n",
       "    <tr>\n",
       "      <th>874706</th>\n",
       "      <td>129361.5</td>\n",
       "      <td>233138.10</td>\n",
       "      <td>2279.5</td>\n",
       "      <td>4.0</td>\n",
       "      <td>3.0</td>\n",
       "      <td>40.787332</td>\n",
       "      <td>0.460864</td>\n",
       "      <td>0.102178</td>\n",
       "      <td>3</td>\n",
       "    </tr>\n",
       "    <tr>\n",
       "      <th>437224</th>\n",
       "      <td>129128.5</td>\n",
       "      <td>232960.70</td>\n",
       "      <td>2293.5</td>\n",
       "      <td>6.0</td>\n",
       "      <td>5.0</td>\n",
       "      <td>46.063407</td>\n",
       "      <td>8.385747</td>\n",
       "      <td>2.592712</td>\n",
       "      <td>3</td>\n",
       "    </tr>\n",
       "    <tr>\n",
       "      <th>349733</th>\n",
       "      <td>129084.5</td>\n",
       "      <td>232898.35</td>\n",
       "      <td>2706.5</td>\n",
       "      <td>8.0</td>\n",
       "      <td>5.0</td>\n",
       "      <td>126.108212</td>\n",
       "      <td>36.196350</td>\n",
       "      <td>3.197180</td>\n",
       "      <td>3</td>\n",
       "    </tr>\n",
       "    <tr>\n",
       "      <th>447807</th>\n",
       "      <td>129138.5</td>\n",
       "      <td>232938.20</td>\n",
       "      <td>2652.5</td>\n",
       "      <td>11.0</td>\n",
       "      <td>3.0</td>\n",
       "      <td>50.353784</td>\n",
       "      <td>0.340715</td>\n",
       "      <td>0.013748</td>\n",
       "      <td>2</td>\n",
       "    </tr>\n",
       "  </tbody>\n",
       "</table>\n",
       "</div>"
      ],
      "text/plain": [
       "              XC         YC      ZC  NSAMP  PASS    DISTNEAR      ESTVAR  \\\n",
       "8885    128744.5  232538.95  3088.5    8.0   5.0   89.329551  133.957553   \n",
       "874706  129361.5  233138.10  2279.5    4.0   3.0   40.787332    0.460864   \n",
       "437224  129128.5  232960.70  2293.5    6.0   5.0   46.063407    8.385747   \n",
       "349733  129084.5  232898.35  2706.5    8.0   5.0  126.108212   36.196350   \n",
       "447807  129138.5  232938.20  2652.5   11.0   3.0   50.353784    0.340715   \n",
       "\n",
       "              BE  Prediction 30% DT and KNN  \n",
       "8885    8.297304                          3  \n",
       "874706  0.102178                          3  \n",
       "437224  2.592712                          3  \n",
       "349733  3.197180                          3  \n",
       "447807  0.013748                          2  "
      ]
     },
     "execution_count": 479,
     "metadata": {},
     "output_type": "execute_result"
    }
   ],
   "source": [
    "X_test.head()"
   ]
  },
  {
   "cell_type": "code",
   "execution_count": 480,
   "metadata": {},
   "outputs": [
    {
     "data": {
      "image/png": "[encoded data removed]",
      "text/plain": [
       "<Figure size 396x576 with 1 Axes>"
      ]
     },
     "metadata": {
      "needs_background": "light"
     },
     "output_type": "display_data"
    }
   ],
   "source": [
    "# Visualización de la Beta de la clasificación del modelo ganador\n",
    "#====================================================================================\n",
    "\n",
    "fig, ax = plt.subplots(figsize = (5.5, 8))\n",
    "colors = {1:'red', 2:'green', 3:'blue'}\n",
    "grouped = X_test.groupby('Prediction 30% DT and KNN')\n",
    "for key, group in grouped:\n",
    "    group.plot(ax=ax, kind='scatter', x='XC', y='ZC', label=key, color=colors[key])\n",
    "plt.suptitle(\"Distribución de Clasificación de Bloques \\n Modelo ganador\", fontsize=16)\n",
    "plt.xlabel('XC', fontsize=14)\n",
    "plt.ylabel('ZC', fontsize=14)\n",
    "#save_results_to = 'E:/Data2/3.Projects/150_ML_For_Resource_Classification/Images/'\n",
    "#plt.savefig(save_results_to + 'veta100_a.png', dpi = 300)\n",
    "plt.show()"
   ]
  },
  {
   "cell_type": "markdown",
   "metadata": {},
   "source": [
    "# Veta Distribution Without Title"
   ]
  },
  {
   "cell_type": "code",
   "execution_count": 511,
   "metadata": {},
   "outputs": [
    {
     "data": {
      "image/png": "[encoded data removed]",
      "text/plain": [
       "<Figure size 396x576 with 1 Axes>"
      ]
     },
     "metadata": {
      "needs_background": "light"
     },
     "output_type": "display_data"
    }
   ],
   "source": [
    "# Visualización de la Beta de la clasificación del modelo ganador sin título\n",
    "#====================================================================================\n",
    "\n",
    "fig, ax = plt.subplots(figsize = (5.5, 8))\n",
    "colors = {1:'red', 2:'green', 3:'blue'}\n",
    "grouped = X_test.groupby('Prediction 30% DT and KNN')\n",
    "for key, group in grouped:\n",
    "    group.plot(ax=ax, kind='scatter', x='XC', y='ZC', label=key, color=colors[key])\n",
    "\n",
    "plt.xlabel('XC', fontsize=14)\n",
    "plt.ylabel('ZC', fontsize=14)\n",
    "#save_results_to = 'E:/Data2/3.Projects/150_ML_For_Resource_Classification/Images/'\n",
    "#plt.savefig(save_results_to + 'veta100_a.png', dpi = 300)\n",
    "plt.show()"
   ]
  },
  {
   "cell_type": "code",
   "execution_count": null,
   "metadata": {},
   "outputs": [],
   "source": []
  }
 ],
 "metadata": {
  "colab": {
   "collapsed_sections": [],
   "name": "KNN_DT_WKnn_PI.ipynb",
   "provenance": []
  },
  "kernelspec": {
   "display_name": "Python 3",
   "language": "python",
   "name": "python3"
  },
  "language_info": {
   "codemirror_mode": {
    "name": "ipython",
    "version": 3
   },
   "file_extension": ".py",
   "mimetype": "text/x-python",
   "name": "python",
   "nbconvert_exporter": "python",
   "pygments_lexer": "ipython3",
   "version": "3.7.3"
  }
 },
 "nbformat": 4,
 "nbformat_minor": 1
}
