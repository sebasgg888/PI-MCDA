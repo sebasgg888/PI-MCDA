{
 "cells": [
  {
   "cell_type": "markdown",
   "metadata": {},
   "source": [
    "# Plantilla para premodelamiento"
   ]
  },
  {
   "cell_type": "code",
   "execution_count": 112,
   "metadata": {},
   "outputs": [],
   "source": [
    "#Importar las librerías de trabajo.\n",
    "\n",
    "import numpy as np\n",
    "import matplotlib.pyplot as plt\n",
    "import pandas as pd\n",
    "\n",
    "from sklearn import model_selection\n",
    "from sklearn import linear_model\n",
    "from sklearn import metrics\n",
    "from sklearn.linear_model import LogisticRegression\n",
    "from sklearn.model_selection import cross_val_score\n",
    "from sklearn.preprocessing import StandardScaler    \n",
    "\n",
    "from sklearn.model_selection import train_test_split\n",
    "from sklearn.metrics import classification_report\n",
    "from sklearn.metrics import confusion_matrix\n",
    "\n",
    "import statsmodels.api as sm # para regresión logística con statsmodels\n",
    "import matplotlib.pyplot as plt"
   ]
  },
  {
   "cell_type": "code",
   "execution_count": 113,
   "metadata": {},
   "outputs": [],
   "source": [
    "data=pd.read_csv(\"/home/pi1grupo4/bmv100clean.csv\")"
   ]
  },
  {
   "cell_type": "code",
   "execution_count": 114,
   "metadata": {},
   "outputs": [
    {
     "data": {
      "text/html": [
       "<div>\n",
       "<style scoped>\n",
       "    .dataframe tbody tr th:only-of-type {\n",
       "        vertical-align: middle;\n",
       "    }\n",
       "\n",
       "    .dataframe tbody tr th {\n",
       "        vertical-align: top;\n",
       "    }\n",
       "\n",
       "    .dataframe thead th {\n",
       "        text-align: right;\n",
       "    }\n",
       "</style>\n",
       "<table border=\"1\" class=\"dataframe\">\n",
       "  <thead>\n",
       "    <tr style=\"text-align: right;\">\n",
       "      <th></th>\n",
       "      <th>XC</th>\n",
       "      <th>YC</th>\n",
       "      <th>ZC</th>\n",
       "      <th>NSAMP</th>\n",
       "      <th>NHOLES</th>\n",
       "      <th>PASS</th>\n",
       "      <th>DISTNEAR</th>\n",
       "      <th>ESTVAR</th>\n",
       "      <th>BE</th>\n",
       "      <th>CLASS_QP</th>\n",
       "    </tr>\n",
       "  </thead>\n",
       "  <tbody>\n",
       "    <tr>\n",
       "      <th>0</th>\n",
       "      <td>128720.5</td>\n",
       "      <td>232510.10</td>\n",
       "      <td>3005.5</td>\n",
       "      <td>8.0</td>\n",
       "      <td>2.0</td>\n",
       "      <td>3.0</td>\n",
       "      <td>50.242311</td>\n",
       "      <td>0.394184</td>\n",
       "      <td>0.013384</td>\n",
       "      <td>2</td>\n",
       "    </tr>\n",
       "    <tr>\n",
       "      <th>1</th>\n",
       "      <td>128720.5</td>\n",
       "      <td>232510.15</td>\n",
       "      <td>3006.5</td>\n",
       "      <td>8.0</td>\n",
       "      <td>2.0</td>\n",
       "      <td>3.0</td>\n",
       "      <td>50.504265</td>\n",
       "      <td>0.396241</td>\n",
       "      <td>0.013369</td>\n",
       "      <td>2</td>\n",
       "    </tr>\n",
       "    <tr>\n",
       "      <th>2</th>\n",
       "      <td>128720.5</td>\n",
       "      <td>232510.25</td>\n",
       "      <td>3007.5</td>\n",
       "      <td>8.0</td>\n",
       "      <td>2.0</td>\n",
       "      <td>5.0</td>\n",
       "      <td>50.754825</td>\n",
       "      <td>204.990842</td>\n",
       "      <td>11.528859</td>\n",
       "      <td>2</td>\n",
       "    </tr>\n",
       "    <tr>\n",
       "      <th>3</th>\n",
       "      <td>128720.5</td>\n",
       "      <td>232510.25</td>\n",
       "      <td>3008.5</td>\n",
       "      <td>8.0</td>\n",
       "      <td>2.0</td>\n",
       "      <td>3.0</td>\n",
       "      <td>51.083045</td>\n",
       "      <td>0.399827</td>\n",
       "      <td>0.013313</td>\n",
       "      <td>2</td>\n",
       "    </tr>\n",
       "    <tr>\n",
       "      <th>4</th>\n",
       "      <td>128719.5</td>\n",
       "      <td>232510.00</td>\n",
       "      <td>3018.5</td>\n",
       "      <td>8.0</td>\n",
       "      <td>2.0</td>\n",
       "      <td>5.0</td>\n",
       "      <td>56.077945</td>\n",
       "      <td>204.990842</td>\n",
       "      <td>11.286284</td>\n",
       "      <td>2</td>\n",
       "    </tr>\n",
       "  </tbody>\n",
       "</table>\n",
       "</div>"
      ],
      "text/plain": [
       "         XC         YC      ZC  NSAMP  NHOLES  PASS   DISTNEAR      ESTVAR  \\\n",
       "0  128720.5  232510.10  3005.5    8.0     2.0   3.0  50.242311    0.394184   \n",
       "1  128720.5  232510.15  3006.5    8.0     2.0   3.0  50.504265    0.396241   \n",
       "2  128720.5  232510.25  3007.5    8.0     2.0   5.0  50.754825  204.990842   \n",
       "3  128720.5  232510.25  3008.5    8.0     2.0   3.0  51.083045    0.399827   \n",
       "4  128719.5  232510.00  3018.5    8.0     2.0   5.0  56.077945  204.990842   \n",
       "\n",
       "          BE  CLASS_QP  \n",
       "0   0.013384         2  \n",
       "1   0.013369         2  \n",
       "2  11.528859         2  \n",
       "3   0.013313         2  \n",
       "4  11.286284         2  "
      ]
     },
     "execution_count": 114,
     "metadata": {},
     "output_type": "execute_result"
    }
   ],
   "source": [
    "data.head()"
   ]
  },
  {
   "cell_type": "code",
   "execution_count": 115,
   "metadata": {},
   "outputs": [],
   "source": [
    "#Partición de los datos entre features (X) & y (variable dependiente)\n",
    "# X = data.iloc[:, :-1].values (X con todos los features)\n",
    "X= data.drop(columns=['XC','YC','ZC','NHOLES', 'CLASS_QP'],axis=1) # Extrayendo NHoles y las coodenadas X,Y,Z\n",
    "features_names=X.columns\n",
    "#y= data.CLASS_QP (otra forma de extraer la y)\n",
    "y = data.iloc[:, 9]"
   ]
  },
  {
   "cell_type": "markdown",
   "metadata": {},
   "source": [
    "### Estandarizar los features"
   ]
  },
  {
   "cell_type": "code",
   "execution_count": 116,
   "metadata": {},
   "outputs": [],
   "source": [
    "scaler = StandardScaler(with_mean= True, with_std= True)\n",
    "X= pd.DataFrame(scaler.fit_transform(X)) \n",
    "X.columns=features_names"
   ]
  },
  {
   "cell_type": "markdown",
   "metadata": {},
   "source": [
    "### Partir los datos de entrenamiento y de testeo (70% y 30%)"
   ]
  },
  {
   "cell_type": "code",
   "execution_count": 117,
   "metadata": {
    "scrolled": true
   },
   "outputs": [
    {
     "name": "stdout",
     "output_type": "stream",
     "text": [
      "['NSAMP', 'PASS', 'DISTNEAR', 'ESTVAR', 'BE']\n",
      "(837268, 5)\n",
      "(358830, 5)\n",
      "(837268,)\n",
      "(358830,)\n"
     ]
    }
   ],
   "source": [
    "print(list(X.columns.values)) \n",
    "X_train_0, X_test_0, y_train_0, y_test_0 = model_selection.train_test_split(X, y, test_size = 0.30, random_state = 123)\n",
    "print(X_train_0.shape)\n",
    "print(X_test_0.shape)\n",
    "print(y_train_0.shape)\n",
    "print(y_test_0.shape)"
   ]
  },
  {
   "cell_type": "code",
   "execution_count": 118,
   "metadata": {
    "scrolled": true
   },
   "outputs": [
    {
     "name": "stdout",
     "output_type": "stream",
     "text": [
      "['NSAMP', 'PASS', 'DISTNEAR', 'ESTVAR', 'BE']\n",
      "(669814, 5)\n",
      "(167454, 5)\n",
      "(669814,)\n",
      "(167454,)\n"
     ]
    }
   ],
   "source": [
    "#### Partir el 70% del entrenamiento en 80% y 20%\n",
    "print(list(X.columns.values)) \n",
    "X_train, X_test, y_train, y_test = model_selection.train_test_split(X_train_0, y_train_0, test_size = 0.20, random_state = 123)\n",
    "print(X_train.shape); print(X_test.shape); print(y_train.shape); print(y_test.shape)"
   ]
  },
  {
   "cell_type": "markdown",
   "metadata": {},
   "source": [
    "### A partir se acá de usa cada modelo con los datos de train y test definidos"
   ]
  },
  {
   "cell_type": "code",
   "execution_count": null,
   "metadata": {},
   "outputs": [],
   "source": []
  },
  {
   "cell_type": "code",
   "execution_count": null,
   "metadata": {},
   "outputs": [],
   "source": []
  },
  {
   "cell_type": "code",
   "execution_count": null,
   "metadata": {},
   "outputs": [],
   "source": []
  },
  {
   "cell_type": "code",
   "execution_count": null,
   "metadata": {},
   "outputs": [],
   "source": []
  },
  {
   "cell_type": "code",
   "execution_count": null,
   "metadata": {},
   "outputs": [],
   "source": []
  },
  {
   "cell_type": "code",
   "execution_count": null,
   "metadata": {},
   "outputs": [],
   "source": []
  },
  {
   "cell_type": "code",
   "execution_count": null,
   "metadata": {},
   "outputs": [],
   "source": []
  },
  {
   "cell_type": "code",
   "execution_count": null,
   "metadata": {},
   "outputs": [],
   "source": []
  },
  {
   "cell_type": "code",
   "execution_count": null,
   "metadata": {},
   "outputs": [],
   "source": []
  },
  {
   "cell_type": "code",
   "execution_count": null,
   "metadata": {},
   "outputs": [],
   "source": []
  },
  {
   "cell_type": "code",
   "execution_count": null,
   "metadata": {},
   "outputs": [],
   "source": []
  },
  {
   "cell_type": "code",
   "execution_count": null,
   "metadata": {},
   "outputs": [],
   "source": []
  }
 ],
 "metadata": {
  "kernelspec": {
   "display_name": "Python 3",
   "language": "python",
   "name": "python3"
  },
  "language_info": {
   "codemirror_mode": {
    "name": "ipython",
    "version": 3
   },
   "file_extension": ".py",
   "mimetype": "text/x-python",
   "name": "python",
   "nbconvert_exporter": "python",
   "pygments_lexer": "ipython3",
   "version": "3.7.3"
  }
 },
 "nbformat": 4,
 "nbformat_minor": 2
}
